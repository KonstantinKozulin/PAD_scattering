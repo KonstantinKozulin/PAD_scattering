{
 "cells": [
  {
   "cell_type": "markdown",
   "metadata": {},
   "source": [
    "Устанавливаем необходимые библиотеки для квантовохимических расчетов."
   ]
  },
  {
   "cell_type": "code",
   "execution_count": null,
   "metadata": {
    "colab": {
     "base_uri": "https://localhost:8080/"
    },
    "id": "g6l6NmAceOzx",
    "outputId": "87a9895d-4724-43a1-9995-9cc8c9bcd995"
   },
   "outputs": [
    {
     "name": "stdout",
     "output_type": "stream",
     "text": [
      "Requirement already satisfied: pyscf in /usr/local/lib/python3.10/dist-packages (2.5.0)\n",
      "Requirement already satisfied: numpy!=1.16,!=1.17,>=1.13 in /usr/local/lib/python3.10/dist-packages (from pyscf) (1.25.2)\n",
      "Requirement already satisfied: scipy!=1.5.0,!=1.5.1 in /usr/local/lib/python3.10/dist-packages (from pyscf) (1.11.4)\n",
      "Requirement already satisfied: h5py>=2.7 in /usr/local/lib/python3.10/dist-packages (from pyscf) (3.9.0)\n",
      "Requirement already satisfied: setuptools in /usr/local/lib/python3.10/dist-packages (from pyscf) (67.7.2)\n",
      "Requirement already satisfied: rdkit in /usr/local/lib/python3.10/dist-packages (2023.9.5)\n",
      "Requirement already satisfied: numpy in /usr/local/lib/python3.10/dist-packages (from rdkit) (1.25.2)\n",
      "Requirement already satisfied: Pillow in /usr/local/lib/python3.10/dist-packages (from rdkit) (9.4.0)\n",
      "Requirement already satisfied: geometric in /usr/local/lib/python3.10/dist-packages (1.0.2)\n",
      "Requirement already satisfied: numpy>=1.11 in /usr/local/lib/python3.10/dist-packages (from geometric) (1.25.2)\n",
      "Requirement already satisfied: networkx in /usr/local/lib/python3.10/dist-packages (from geometric) (3.3)\n",
      "Requirement already satisfied: six in /usr/local/lib/python3.10/dist-packages (from geometric) (1.16.0)\n"
     ]
    }
   ],
   "source": [
    "! pip install pyscf\n",
    "! pip install rdkit\n",
    "! pip install geometric"
   ]
  },
  {
   "cell_type": "markdown",
   "metadata": {},
   "source": [
    "Создаем молекулу NH2 с помощью средств rdkit, записывая положение атомов в соответствующий файл."
   ]
  },
  {
   "cell_type": "code",
   "execution_count": null,
   "metadata": {
    "id": "U6XuzbVXeogz"
   },
   "outputs": [],
   "source": [
    "from rdkit import Chem\n",
    "from rdkit.Chem import AllChem\n",
    "m = Chem.MolFromSmiles('[NH2]')\n",
    "m = Chem.AddHs(m)\n",
    "Chem.AllChem.EmbedMolecule(m)\n",
    "Chem.MolToXYZFile(m, \"NH2.xyz\")"
   ]
  },
  {
   "cell_type": "markdown",
   "metadata": {},
   "source": [
    "Из полученной молекулы создаем объект pyscf, задавая базис, в котором будет вестись расчет, и общий спин нашей системы."
   ]
  },
  {
   "cell_type": "code",
   "execution_count": null,
   "metadata": {
    "colab": {
     "base_uri": "https://localhost:8080/"
    },
    "id": "iGvelmX-hBqO",
    "outputId": "b022db41-1d5b-4387-9cb7-22d2faa533ae"
   },
   "outputs": [
    {
     "data": {
      "text/plain": [
       "<pyscf.gto.mole.Mole at 0x7b8f1ca9d060>"
      ]
     },
     "execution_count": 37,
     "metadata": {},
     "output_type": "execute_result"
    }
   ],
   "source": [
    "from pyscf import gto, scf, dft\n",
    "mol = gto.Mole()\n",
    "mol.build(atom = 'NH2.xyz', basis = 'aug-cc-pvdz', spin=1, )\n",
    "mol.build()"
   ]
  },
  {
   "cell_type": "markdown",
   "metadata": {},
   "source": [
    "Задаем метод, в котором будет рассчитана обменно-корреляционная составляющая потенциала, и проводим квантовохимический расчет."
   ]
  },
  {
   "cell_type": "code",
   "execution_count": null,
   "metadata": {
    "id": "Y0O53ZsMh4fb"
   },
   "outputs": [],
   "source": [
    "mf = mol.KS()\n",
    "mf.xc = 'blyp'"
   ]
  },
  {
   "cell_type": "code",
   "execution_count": null,
   "metadata": {
    "colab": {
     "base_uri": "https://localhost:8080/",
     "height": 1000
    },
    "id": "6P9iPDZ7kbXy",
    "outputId": "52647ebc-2379-4bb5-847c-6455514b90e8"
   },
   "outputs": [
    {
     "name": "stderr",
     "output_type": "stream",
     "text": [
      "geometric-optimize called with the following command line:\n",
      "/usr/local/lib/python3.10/dist-packages/colab_kernel_launcher.py -f /root/.local/share/jupyter/runtime/kernel-c62dc1b8-7d2a-4fc4-8e61-fde2a6b15aa7.json\n",
      "\n",
      "                                        \u001b[91m())))))))))))))))/\u001b[0m                     \n",
      "                                    \u001b[91m())))))))))))))))))))))))),\u001b[0m                \n",
      "                                \u001b[91m*)))))))))))))))))))))))))))))))))\u001b[0m             \n",
      "                        \u001b[94m#,\u001b[0m    \u001b[91m()))))))))/\u001b[0m                \u001b[91m.)))))))))),\u001b[0m          \n",
      "                      \u001b[94m#%%%%,\u001b[0m  \u001b[91m())))))\u001b[0m                        \u001b[91m.))))))))*\u001b[0m        \n",
      "                      \u001b[94m*%%%%%%,\u001b[0m  \u001b[91m))\u001b[0m              \u001b[93m..\u001b[0m              \u001b[91m,))))))).\u001b[0m      \n",
      "                        \u001b[94m*%%%%%%,\u001b[0m         \u001b[93m***************/.\u001b[0m        \u001b[91m.)))))))\u001b[0m     \n",
      "                \u001b[94m#%%/\u001b[0m      \u001b[94m(%%%%%%,\u001b[0m    \u001b[93m/*********************.\u001b[0m       \u001b[91m)))))))\u001b[0m    \n",
      "              \u001b[94m.%%%%%%#\u001b[0m      \u001b[94m*%%%%%%,\u001b[0m  \u001b[93m*******/,\u001b[0m     \u001b[93m**********,\u001b[0m      \u001b[91m.))))))\u001b[0m   \n",
      "                \u001b[94m.%%%%%%/\u001b[0m      \u001b[94m*%%%%%%,\u001b[0m  \u001b[93m**\u001b[0m              \u001b[93m********\u001b[0m      \u001b[91m.))))))\u001b[0m  \n",
      "          \u001b[94m##\u001b[0m      \u001b[94m.%%%%%%/\u001b[0m      \u001b[94m(%%%%%%,\u001b[0m                  \u001b[93m,******\u001b[0m      \u001b[91m/)))))\u001b[0m  \n",
      "        \u001b[94m%%%%%%\u001b[0m      \u001b[94m.%%%%%%#\u001b[0m      \u001b[94m*%%%%%%,\u001b[0m    \u001b[92m,/////.\u001b[0m       \u001b[93m******\u001b[0m      \u001b[91m))))))\u001b[0m \n",
      "      \u001b[94m#%\u001b[0m      \u001b[94m%%\u001b[0m      \u001b[94m.%%%%%%/\u001b[0m      \u001b[94m*%%%%%%,\u001b[0m  \u001b[92m////////,\u001b[0m      \u001b[93m*****/\u001b[0m     \u001b[91m,)))))\u001b[0m \n",
      "    \u001b[94m#%%\u001b[0m  \u001b[94m%%%\u001b[0m  \u001b[94m%%%#\u001b[0m      \u001b[94m.%%%%%%/\u001b[0m      \u001b[94m(%%%%%%,\u001b[0m  \u001b[92m///////.\u001b[0m     \u001b[93m/*****\u001b[0m      \u001b[91m))))).\u001b[0m\n",
      "  \u001b[94m#%%%%.\u001b[0m      \u001b[94m%%%%%#\u001b[0m      \u001b[94m/%%%%%%*\u001b[0m      \u001b[94m#%%%%%%\u001b[0m   \u001b[92m/////)\u001b[0m     \u001b[93m******\u001b[0m      \u001b[91m))))),\u001b[0m\n",
      "    \u001b[94m#%%%%##%\u001b[0m  \u001b[94m%%%#\u001b[0m      \u001b[94m.%%%%%%/\u001b[0m      \u001b[94m(%%%%%%,\u001b[0m  \u001b[92m///////.\u001b[0m     \u001b[93m/*****\u001b[0m      \u001b[91m))))).\u001b[0m\n",
      "      \u001b[94m##\u001b[0m     \u001b[94m%%%\u001b[0m      \u001b[94m.%%%%%%/\u001b[0m      \u001b[94m*%%%%%%,\u001b[0m  \u001b[92m////////.\u001b[0m      \u001b[93m*****/\u001b[0m     \u001b[91m,)))))\u001b[0m \n",
      "        \u001b[94m#%%%%#\u001b[0m      \u001b[94m/%%%%%%/\u001b[0m      \u001b[94m(%%%%%%\u001b[0m      \u001b[92m/)/)//\u001b[0m       \u001b[93m******\u001b[0m      \u001b[91m))))))\u001b[0m \n",
      "          \u001b[94m##\u001b[0m      \u001b[94m.%%%%%%/\u001b[0m      \u001b[94m(%%%%%%,\u001b[0m                  \u001b[93m*******\u001b[0m      \u001b[91m))))))\u001b[0m  \n",
      "                \u001b[94m.%%%%%%/\u001b[0m      \u001b[94m*%%%%%%,\u001b[0m  \u001b[93m**.\u001b[0m             \u001b[93m/*******\u001b[0m      \u001b[91m.))))))\u001b[0m  \n",
      "              \u001b[94m*%%%%%%/\u001b[0m      \u001b[94m(%%%%%%\u001b[0m   \u001b[93m********/*..,*/*********\u001b[0m       \u001b[91m*))))))\u001b[0m   \n",
      "                \u001b[94m#%%/\u001b[0m      \u001b[94m(%%%%%%,\u001b[0m    \u001b[93m*********************/\u001b[0m        \u001b[91m)))))))\u001b[0m    \n",
      "                        \u001b[94m*%%%%%%,\u001b[0m         \u001b[93m,**************/\u001b[0m         \u001b[91m,))))))/\u001b[0m     \n",
      "                      \u001b[94m(%%%%%%\u001b[0m   \u001b[91m()\u001b[0m                              \u001b[91m))))))))\u001b[0m       \n",
      "                      \u001b[94m#%%%%,\u001b[0m  \u001b[91m())))))\u001b[0m                        \u001b[91m,)))))))),\u001b[0m        \n",
      "                        \u001b[94m#,\u001b[0m    \u001b[91m())))))))))\u001b[0m                \u001b[91m,)))))))))).\u001b[0m          \n",
      "                                 \u001b[91m()))))))))))))))))))))))))))))))/\u001b[0m             \n",
      "                                    \u001b[91m())))))))))))))))))))))))).\u001b[0m                \n",
      "                                         \u001b[91m())))))))))))))),\u001b[0m                     \n",
      "\n",
      "-=# \u001b[1;94m geomeTRIC started. Version: 1.0.2 \u001b[0m #=-\n",
      "Current date and time: 2024-04-19 14:43:12\n",
      "Custom engine selected.\n",
      "Bonds will be generated from interatomic distances less than 1.20 times sum of covalent radii\n",
      "9 internal coordinates being used (instead of 9 Cartesians)\n",
      "Internal coordinate system (atoms numbered from 1):\n",
      "Distance 1-2\n",
      "Distance 1-3\n",
      "Angle 2-1-3\n",
      "Translation-X 1-3\n",
      "Translation-Y 1-3\n",
      "Translation-Z 1-3\n",
      "Rotation-A 1-3\n",
      "Rotation-B 1-3\n",
      "Rotation-C 1-3\n",
      "<class 'geometric.internal.Distance'> : 2\n",
      "<class 'geometric.internal.Angle'> : 1\n",
      "<class 'geometric.internal.TranslationX'> : 1\n",
      "<class 'geometric.internal.TranslationY'> : 1\n",
      "<class 'geometric.internal.TranslationZ'> : 1\n",
      "<class 'geometric.internal.RotationA'> : 1\n",
      "<class 'geometric.internal.RotationB'> : 1\n",
      "<class 'geometric.internal.RotationC'> : 1\n",
      "> ===== Optimization Info: ====\n",
      "> Job type: Energy minimization\n",
      "> Maximum number of optimization cycles: 300\n",
      "> Initial / maximum trust radius (Angstrom): 0.100 / 0.300\n",
      "> Convergence Criteria:\n",
      "> Will converge when all 5 criteria are reached:\n",
      ">  |Delta-E| < 1.00e-06\n",
      ">  RMS-Grad  < 3.00e-04\n",
      ">  Max-Grad  < 4.50e-04\n",
      ">  RMS-Disp  < 1.20e-03\n",
      ">  Max-Disp  < 1.80e-03\n",
      "> === End Optimization Info ===\n"
     ]
    },
    {
     "name": "stdout",
     "output_type": "stream",
     "text": [
      "\n",
      "Geometry optimization cycle 1\n",
      "Cartesian coordinates (Angstrom)\n",
      " Atom        New coordinates             dX        dY        dZ\n",
      "   N  -0.001941   0.384856   0.000000    0.000000  0.000000  0.000000\n",
      "   H  -0.870613  -0.193086   0.000000    0.000000  0.000000  0.000000\n",
      "   H   0.872555  -0.191771   0.000000    0.000000  0.000000  0.000000\n",
      "converged SCF energy = -55.8666316939534  <S^2> = 0.75272802  2S+1 = 2.0027262\n",
      "--------------- UKS_Scanner gradients ---------------\n",
      "         x                y                z\n",
      "0 N    -0.0024294263    -0.0152807342     0.0000000000\n",
      "1 H    -0.0113931460     0.0084617424    -0.0000000000\n",
      "2 H     0.0138223256     0.0068211001     0.0000000000\n",
      "----------------------------------------------\n",
      "cycle 1: E = -55.866631694  dE = -55.8666  norm(grad) = 0.026046\n"
     ]
    },
    {
     "name": "stderr",
     "output_type": "stream",
     "text": [
      "Step    0 : Gradient = 1.504e-02/1.547e-02 (rms/max) Energy = -55.8666316940\n",
      "Hessian Eigenvalues: 5.00000e-02 5.00000e-02 5.00000e-02 ... 1.60000e-01 4.02259e-01 4.08101e-01\n"
     ]
    },
    {
     "name": "stdout",
     "output_type": "stream",
     "text": [
      "\n",
      "Geometry optimization cycle 2\n",
      "Cartesian coordinates (Angstrom)\n",
      " Atom        New coordinates             dX        dY        dZ\n",
      "   N  -0.000629   0.427899  -0.000000    0.001312  0.043043 -0.000000\n",
      "   H  -0.814397  -0.215097  -0.000000    0.056216 -0.022011 -0.000000\n",
      "   H   0.815035  -0.212870  -0.000000   -0.057520 -0.021099 -0.000000\n",
      "converged SCF energy = -55.869141162588  <S^2> = 0.75263407  2S+1 = 2.0026323\n",
      "--------------- UKS_Scanner gradients ---------------\n",
      "         x                y                z\n",
      "0 N    -0.0000537255    -0.0072100767     0.0000000000\n",
      "1 H     0.0022889076     0.0036354371    -0.0000000000\n",
      "2 H    -0.0022353037     0.0035793363     0.0000000000\n",
      "----------------------------------------------\n",
      "cycle 2: E = -55.8691411626  dE = -0.00250947  norm(grad) = 0.00939424\n"
     ]
    },
    {
     "name": "stderr",
     "output_type": "stream",
     "text": [
      "Step    1 : Displace = \u001b[0m5.554e-02\u001b[0m/\u001b[0m6.126e-02\u001b[0m (rms/max) Trust = 1.000e-01 (=) Grad = \u001b[0m5.424e-03\u001b[0m/\u001b[0m7.210e-03\u001b[0m (rms/max) E (change) = -55.8691411626 (\u001b[0m-2.509e-03\u001b[0m) Quality = \u001b[0m1.105\u001b[0m\n",
      "Hessian Eigenvalues: 5.00000e-02 5.00000e-02 5.00000e-02 ... 1.35999e-01 4.05204e-01 4.41191e-01\n"
     ]
    },
    {
     "name": "stdout",
     "output_type": "stream",
     "text": [
      "\n",
      "Geometry optimization cycle 3\n",
      "Cartesian coordinates (Angstrom)\n",
      " Atom        New coordinates             dX        dY        dZ\n",
      "   N  -0.000589   0.436428  -0.000000    0.000040  0.008529 -0.000000\n",
      "   H  -0.811102  -0.219455   0.000000    0.003295 -0.004359  0.000000\n",
      "   H   0.811704  -0.217203  -0.000000   -0.003331 -0.004333 -0.000000\n",
      "converged SCF energy = -55.8692209319127  <S^2> = 0.75265404  2S+1 = 2.0026523\n",
      "--------------- UKS_Scanner gradients ---------------\n",
      "         x                y                z\n",
      "0 N     0.0000180183    -0.0008287101     0.0000000000\n",
      "1 H     0.0006418854     0.0004106637    -0.0000000000\n",
      "2 H    -0.0006600015     0.0004225757    -0.0000000000\n",
      "----------------------------------------------\n",
      "cycle 3: E = -55.8692209319  dE = -7.97693e-05  norm(grad) = 0.00137183\n"
     ]
    },
    {
     "name": "stderr",
     "output_type": "stream",
     "text": [
      "Step    2 : Displace = \u001b[0m6.645e-03\u001b[0m/\u001b[0m8.584e-03\u001b[0m (rms/max) Trust = 1.414e-01 (\u001b[92m+\u001b[0m) Grad = \u001b[0m7.920e-04\u001b[0m/\u001b[0m8.289e-04\u001b[0m (rms/max) E (change) = -55.8692209319 (\u001b[0m-7.977e-05\u001b[0m) Quality = \u001b[0m1.079\u001b[0m\n",
      "Hessian Eigenvalues: 4.99996e-02 5.00000e-02 5.00000e-02 ... 1.44749e-01 3.81369e-01 4.05221e-01\n"
     ]
    },
    {
     "name": "stdout",
     "output_type": "stream",
     "text": [
      "\n",
      "Geometry optimization cycle 4\n",
      "Cartesian coordinates (Angstrom)\n",
      " Atom        New coordinates             dX        dY        dZ\n",
      "   N  -0.000598   0.436709  -0.000000   -0.000010  0.000282 -0.000000\n",
      "   H  -0.812062  -0.219671   0.000000   -0.000959 -0.000216 -0.000000\n",
      "   H   0.812677  -0.217426  -0.000000    0.000972 -0.000223 -0.000000\n",
      "converged SCF energy = -55.8692225084422  <S^2> = 0.7526592  2S+1 = 2.0026574\n",
      "--------------- UKS_Scanner gradients ---------------\n",
      "         x                y                z\n",
      "0 N     0.0000000177    -0.0000093668     0.0000000000\n",
      "1 H    -0.0000056232     0.0000069649    -0.0000000000\n",
      "2 H     0.0000055046     0.0000070373     0.0000000000\n",
      "----------------------------------------------\n",
      "cycle 4: E = -55.8692225084  dE = -1.57653e-06  norm(grad) = 1.57382e-05\n"
     ]
    },
    {
     "name": "stderr",
     "output_type": "stream",
     "text": [
      "Step    3 : Displace = \u001b[92m8.233e-04\u001b[0m/\u001b[92m9.861e-04\u001b[0m (rms/max) Trust = 2.000e-01 (\u001b[92m+\u001b[0m) Grad = \u001b[92m9.086e-06\u001b[0m/\u001b[92m9.367e-06\u001b[0m (rms/max) E (change) = -55.8692225084 (\u001b[0m-1.577e-06\u001b[0m) Quality = \u001b[0m0.997\u001b[0m\n",
      "Hessian Eigenvalues: 4.99838e-02 5.00000e-02 5.00000e-02 ... 1.44646e-01 3.82913e-01 4.05221e-01\n"
     ]
    },
    {
     "name": "stdout",
     "output_type": "stream",
     "text": [
      "\n",
      "Geometry optimization cycle 5\n",
      "Cartesian coordinates (Angstrom)\n",
      " Atom        New coordinates             dX        dY        dZ\n",
      "   N  -0.000597   0.436689  -0.000000    0.000001 -0.000020 -0.000000\n",
      "   H  -0.812030  -0.219735   0.000000    0.000032 -0.000063  0.000000\n",
      "   H   0.812647  -0.217490  -0.000000   -0.000030 -0.000064 -0.000000\n",
      "converged SCF energy = -55.8692225091106  <S^2> = 0.75265917  2S+1 = 2.0026574\n",
      "--------------- UKS_Scanner gradients ---------------\n",
      "         x                y                z\n",
      "0 N    -0.0000000729     0.0000007852     0.0000000000\n",
      "1 H     0.0000004212     0.0000019382    -0.0000000000\n",
      "2 H    -0.0000004490     0.0000019087     0.0000000000\n",
      "----------------------------------------------\n",
      "cycle 5: E = -55.8692225091  dE = -6.68493e-10  norm(grad) = 2.89833e-06\n"
     ]
    },
    {
     "name": "stderr",
     "output_type": "stream",
     "text": [
      "Step    4 : Displace = \u001b[92m3.265e-05\u001b[0m/\u001b[92m3.430e-05\u001b[0m (rms/max) Trust = 2.828e-01 (\u001b[92m+\u001b[0m) Grad = \u001b[92m1.673e-06\u001b[0m/\u001b[92m1.983e-06\u001b[0m (rms/max) E (change) = -55.8692225091 (\u001b[92m-6.685e-10\u001b[0m) Quality = \u001b[0m0.674\u001b[0m\n",
      "Hessian Eigenvalues: 4.99838e-02 5.00000e-02 5.00000e-02 ... 1.44646e-01 3.82913e-01 4.05221e-01\n",
      "Converged! =D\n",
      "\n",
      "    #==========================================================================#\n",
      "    #| If this code has benefited your research, please support us by citing: |#\n",
      "    #|                                                                        |#\n",
      "    #| Wang, L.-P.; Song, C.C. (2016) \"Geometry optimization made simple with |#\n",
      "    #| translation and rotation coordinates\", J. Chem, Phys. 144, 214108.     |#\n",
      "    #| http://dx.doi.org/10.1063/1.4952956                                    |#\n",
      "    #==========================================================================#\n",
      "    Time elapsed since start of run_optimizer: 24.228 seconds\n"
     ]
    },
    {
     "data": {
      "application/vnd.google.colaboratory.intrinsic+json": {
       "type": "string"
      },
      "text/plain": [
       "'3\\nXYZ from PySCF\\nN          -0.00060        0.43669       -0.00000\\nH          -0.81203       -0.21973        0.00000\\nH           0.81265       -0.21749       -0.00000'"
      ]
     },
     "execution_count": 39,
     "metadata": {},
     "output_type": "execute_result"
    }
   ],
   "source": [
    "from pyscf.geomopt.geometric_solver import optimize\n",
    "mol_eq = optimize(mf)\n",
    "mol_eq.tofile(\"opt_NH2.xyz\")"
   ]
  },
  {
   "cell_type": "markdown",
   "metadata": {},
   "source": [
    "Зададим функцию расчета обменно-корреляционной составляющей энергии системы посредством интегрирования произведения обменно-корреляционного потенциала на электронную плотность. На вход подаются координаты точек в сетке интегрирования, значения потенциала, электронной плотности, размеры сетки (она разбита для удобства на 3 блока: изменение длины радиус-вектора, углов $\\theta$ и $\\varphi$), а также длины шагов интегрирования."
   ]
  },
  {
   "cell_type": "code",
   "execution_count": null,
   "metadata": {
    "id": "aPivzacLvuGD"
   },
   "outputs": [],
   "source": [
    "def Exc_val(coords, exc, rho, N_R, N_Theta, N_Phi, R_step, Theta_step, Phi_step):\n",
    "    i=j=k=0\n",
    "    h1=h2=h3=1\n",
    "    cor=0\n",
    "    Exc=0\n",
    "    i=0\n",
    "    for block_x in coords:\n",
    "        if ((i==0) or (i==N_R-1)):\n",
    "            h1=0.5\n",
    "        else:\n",
    "            h1=1\n",
    "        j=0\n",
    "        for block_y in block_x:\n",
    "            if ((j==0) or (j==N_Theta-1)):\n",
    "                h2=0.5\n",
    "            else:\n",
    "                h2=1\n",
    "            k=0\n",
    "            for block_z in block_y:\n",
    "                if ((k==0) or (k==N_Phi-1)):\n",
    "                    h3=0.5\n",
    "                else:\n",
    "                    h3=1\n",
    "                Exc+= block_z[0]**2*np.sin(block_z[1])*R_step*Theta_step*Phi_step*h1*h2*h3*exc[cor]*(rho[0][0][cor]+rho[1][0][cor])\n",
    "                k+=1\n",
    "                cor+=1\n",
    "            j+=1\n",
    "        i+=1\n",
    "    return(Exc)"
   ]
  },
  {
   "cell_type": "markdown",
   "metadata": {},
   "source": [
    "Задаем сетку интегрирования в сферической системе координат: заполняем значениями соответствующий массив coords. Также задаем массив этих же точек в декартовой системе координат."
   ]
  },
  {
   "cell_type": "code",
   "execution_count": null,
   "metadata": {
    "colab": {
     "base_uri": "https://localhost:8080/"
    },
    "id": "_LDrbpnvoaqw",
    "outputId": "1481ea9e-a59a-4288-8e12-e662070e7823"
   },
   "outputs": [
    {
     "data": {
      "text/plain": [
       "(405150, 3)"
      ]
     },
     "execution_count": 41,
     "metadata": {},
     "output_type": "execute_result"
    }
   ],
   "source": [
    "import numpy as np\n",
    "N_R=150\n",
    "N_Theta = 37\n",
    "N_Phi = 73\n",
    "R = np.linspace(0.1, 15, N_R)\n",
    "Theta = np.linspace(0, np.pi, N_Theta)\n",
    "Phi = np.linspace(0, 2*np.pi, N_Phi)\n",
    "R_step = R[1]- R[0]\n",
    "Theta_step = Theta[1]-Theta[0]\n",
    "Phi_step = Phi[1]-Phi[0]\n",
    "coords=[]\n",
    "for r in R:\n",
    "    for t in Theta:\n",
    "        for p in Phi:\n",
    "            coords.append([r,t,p])\n",
    "coords = np.array(coords)\n",
    "coords_norm = coords.reshape(N_R,N_Theta,N_Phi,3)\n",
    "\n",
    "X=np.reshape(coords[:,0]*np.sin(coords[:,1])*np.cos(coords[:,2]),(len(coords),1))\n",
    "Y=np.reshape(coords[:,0]*np.sin(coords[:,1])*np.sin(coords[:,2]),(len(coords),1))\n",
    "Z=np.reshape(coords[:,0]*np.cos(coords[:,1]),(len(coords),1))\n",
    "coords_cartesian = np.concatenate([X,Y,Z],axis=1)\n",
    "coords_cartesian.shape"
   ]
  },
  {
   "cell_type": "markdown",
   "metadata": {},
   "source": [
    "С помощью средств pyscf вычисляем значения обменно-корреляционного потенциала на заданной выше сетке, электронной плотности - на ней же, для проверки рассчитываем значение энергии, используя написаную ранее функцию."
   ]
  },
  {
   "cell_type": "code",
   "execution_count": null,
   "metadata": {
    "colab": {
     "base_uri": "https://localhost:8080/"
    },
    "id": "S3LrhX_1xnIf",
    "outputId": "6a3901f9-0f0c-451a-eaa4-d33b3788a861"
   },
   "outputs": [
    {
     "name": "stdout",
     "output_type": "stream",
     "text": [
      "(2, 4, 405150)\n",
      "Exc =  -7.5570963083104745\n"
     ]
    }
   ],
   "source": [
    "import numpy\n",
    "from pyscf import gto, dft, lib\n",
    "from pyscf.dft import numint\n",
    "from pyscf.dft import r_numint\n",
    "\n",
    "mol = gto.Mole()\n",
    "mol.build(atom = 'opt_NH2.xyz', basis = 'aug-cc-pvdz', spin=1, verbose=0)\n",
    "\n",
    "mf = mol.UKS()\n",
    "mf.xc = 'PW91'\n",
    "mf.kernel()\n",
    "dm = mf.make_rdm1()\n",
    "\n",
    "ao_value = numint.eval_ao(mol, coords_cartesian, deriv=1)\n",
    "# The first row of rho is electron density, the rest three rows are electron\n",
    "# density gradients which are needed for GGA functional\n",
    "rho_alpha = numint.eval_rho(mol, ao_value, dm[0], xctype='GGA')\n",
    "rho_beta = numint.eval_rho(mol, ao_value, dm[1], xctype='GGA')\n",
    "rho = np.array([rho_alpha, rho_beta]) # Таким образом, rho[0] - альфа-электроны, rho[1] - бета.\n",
    "print(rho.shape)\n",
    "\n",
    "#\n",
    "# Evaluate XC functional.\n",
    "# Note: to evaluate only correlation functional, put ',' before the functional name\n",
    "#\n",
    "\n",
    "exc, vxc = dft.libxc.eval_xc('PW91', rho, spin=1)[:2]\n",
    "Exc = Exc_val(coords_norm, exc, rho, N_R, N_Theta, N_Phi, R_step, Theta_step, Phi_step)\n",
    "\n",
    "print('Exc = ', Exc)"
   ]
  },
  {
   "cell_type": "markdown",
   "metadata": {},
   "source": [
    "Задаем функцию расчета интеграла от электронной плотности (т.е. суммарного количества электронов). Работает так же, как и предыдущая функция расчета энергии."
   ]
  },
  {
   "cell_type": "code",
   "execution_count": null,
   "metadata": {
    "id": "ta0qeHgEHwyA"
   },
   "outputs": [],
   "source": [
    "def dens(coords, rho, N_R, N_Theta, N_Phi, R_step, Theta_step, Phi_step):\n",
    "    i=j=k=0\n",
    "    h1=h2=h3=1\n",
    "    cor=0\n",
    "    Exc=0\n",
    "    i=0\n",
    "    for block_x in coords:\n",
    "        if ((i==0) or (i==N_R-1)):\n",
    "            h1=0.5\n",
    "        else:\n",
    "            h1=1\n",
    "        j=0\n",
    "        for block_y in block_x:\n",
    "            if ((j==0) or (j==N_Theta-1)):\n",
    "                h2=0.5\n",
    "            else:\n",
    "                h2=1\n",
    "            k=0\n",
    "            for block_z in block_y:\n",
    "                if ((k==0) or (k==N_Phi-1)):\n",
    "                    h3=0.5\n",
    "                else:\n",
    "                    h3=1\n",
    "                Exc+= block_z[0]**2*np.sin(block_z[1])*R_step*Theta_step*Phi_step*h1*h2*h3*\\\n",
    "                    (rho[0][0][cor]+rho[1][0][cor]) #Здесь можно заменить альфа-электроны на бета - и наоборот.\n",
    "                k+=1\n",
    "                cor+=1\n",
    "            j+=1\n",
    "        i+=1\n",
    "    return(Exc)"
   ]
  },
  {
   "cell_type": "markdown",
   "metadata": {},
   "source": [
    "Также для проверки рассчитаем количество электронов в заданной системе, используя значения электронной плотности на сетке и заведенную выше функцию."
   ]
  },
  {
   "cell_type": "code",
   "execution_count": null,
   "metadata": {
    "colab": {
     "base_uri": "https://localhost:8080/"
    },
    "id": "k223e2VVH4WE",
    "outputId": "e646fb5d-59fe-4bc2-c685-7ff829bb4e6f"
   },
   "outputs": [
    {
     "data": {
      "text/plain": [
       "8.99857939409723"
      ]
     },
     "execution_count": 44,
     "metadata": {},
     "output_type": "execute_result"
    }
   ],
   "source": [
    "rho_total = dens(coords_norm, rho, N_R, N_Theta, N_Phi, R_step, Theta_step, Phi_step)\n",
    "rho_total"
   ]
  },
  {
   "cell_type": "markdown",
   "metadata": {},
   "source": [
    "Создадим массив координат атомов в том виде, в котором будем передавать его дальше."
   ]
  },
  {
   "cell_type": "code",
   "execution_count": null,
   "metadata": {
    "id": "NU40ph9hzok9"
   },
   "outputs": [],
   "source": [
    "NH2_coords_pyscf = mol._atom\n",
    "NH2_coords_norm=[]\n",
    "for atom in NH2_coords_pyscf:\n",
    "    line=[]\n",
    "    if atom[0] == 'N':\n",
    "        line.append(7)\n",
    "    elif atom[0] == 'H':\n",
    "        line.append(1)\n",
    "    for coord in atom[1]:\n",
    "        line.append(coord)\n",
    "    NH2_coords_norm.append(line)\n",
    "NH2_coords = np.array(NH2_coords_norm)"
   ]
  },
  {
   "cell_type": "markdown",
   "metadata": {},
   "source": [
    "Зададим массив значений суммарной электронной плотности ($\\alpha + \\beta$) в узлах сетки интегрирования."
   ]
  },
  {
   "cell_type": "code",
   "execution_count": null,
   "metadata": {
    "id": "q0VEdJqmzsI8"
   },
   "outputs": [],
   "source": [
    "rho_sum = []\n",
    "for i in range(len(rho[0][0])):\n",
    "    rho_sum.append(rho[1][0][i]+rho[0][0][i])\n",
    "rho_sum = np.array(rho_sum)"
   ]
  },
  {
   "cell_type": "markdown",
   "metadata": {},
   "source": [
    "Сохраним необходимые массивы в соответствующие бинарные файлы."
   ]
  },
  {
   "cell_type": "code",
   "execution_count": null,
   "metadata": {
    "id": "2Om4-xfTIRHt"
   },
   "outputs": [],
   "source": [
    "import pickle\n",
    "\n",
    "with open(\"grid.bin\", \"wb\") as file:\n",
    "    pickle.dump(coords, file)\n",
    "\n",
    "with open(\"Vxc.bin\", \"wb\") as file:\n",
    "    pickle.dump(exc, file)\n",
    "\n",
    "with open(\"NH2_coords.bin\", \"wb\") as file:\n",
    "    pickle.dump(NH2_coords, file)\n",
    "\n",
    "with open(\"density.bin\", \"wb\") as file:\n",
    "    pickle.dump(rho_sum, file)"
   ]
  },
  {
   "cell_type": "code",
   "execution_count": null,
   "metadata": {
    "id": "Cyes4O7S3SC4"
   },
   "outputs": [],
   "source": []
  }
 ],
 "metadata": {
  "colab": {
   "gpuType": "T4",
   "provenance": []
  },
  "kernelspec": {
   "display_name": "Python 3 (ipykernel)",
   "language": "python",
   "name": "python3"
  },
  "language_info": {
   "codemirror_mode": {
    "name": "ipython",
    "version": 3
   },
   "file_extension": ".py",
   "mimetype": "text/x-python",
   "name": "python",
   "nbconvert_exporter": "python",
   "pygments_lexer": "ipython3",
   "version": "3.10.10"
  }
 },
 "nbformat": 4,
 "nbformat_minor": 1
}
