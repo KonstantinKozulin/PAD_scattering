{
 "cells": [
  {
   "cell_type": "markdown",
   "id": "bf741854",
   "metadata": {},
   "source": [
    "Импортируем необходимые библиотеки."
   ]
  },
  {
   "cell_type": "code",
   "execution_count": 1,
   "id": "ff519a51",
   "metadata": {},
   "outputs": [],
   "source": [
    "import pickle\n",
    "import numpy as np\n",
    "from sympy import *\n",
    "import math\n",
    "from math import copysign as sgn, factorial as fact\n",
    "from mpmath import besselj as Jn\n",
    "from sympy.physics.quantum.cg import CG\n",
    "from scipy.special import gamma, binom, sph_harm as Ynm, gammaincc\n",
    "from scipy.special import spherical_jn\n",
    "from scipy import integrate\n",
    "import matplotlib.pyplot as plt\n",
    "from IPython.core.interactiveshell import InteractiveShell\n",
    "InteractiveShell.ast_node_interactivity = \"all\""
   ]
  },
  {
   "cell_type": "markdown",
   "id": "d5f2f983",
   "metadata": {},
   "source": [
    "Считаем из бинарных файлов сетку интегрирования, положения атомов в молекуле и электронную плотность."
   ]
  },
  {
   "cell_type": "code",
   "execution_count": 2,
   "id": "728a39f8",
   "metadata": {},
   "outputs": [],
   "source": [
    "with open(\"grid.bin\", \"rb\") as file:\n",
    "    coords = pickle.load(file)\n",
    "coords.shape\n",
    "\n",
    "with open(\"NH2_coords.bin\", \"rb\") as file:\n",
    "    geometry = pickle.load(file)\n",
    "    \n",
    "with open(\"density.bin\", \"rb\") as file:\n",
    "    density = pickle.load(file)"
   ]
  },
  {
   "cell_type": "markdown",
   "id": "ba11ec46",
   "metadata": {},
   "source": [
    "Аналогично - суммарный потенциал."
   ]
  },
  {
   "cell_type": "code",
   "execution_count": 3,
   "id": "2d2337b6",
   "metadata": {},
   "outputs": [
    {
     "data": {
      "text/plain": [
       "(378000, 1)"
      ]
     },
     "execution_count": 3,
     "metadata": {},
     "output_type": "execute_result"
    }
   ],
   "source": [
    "with open(\"Vtot.bin\", \"rb\") as file:\n",
    "    Vtot = pickle.load(file)\n",
    "Vtot=Vtot.reshape(len(Vtot),1)\n",
    "Vtot.shape"
   ]
  },
  {
   "cell_type": "markdown",
   "id": "cecec099",
   "metadata": {},
   "source": [
    "Объединим координаты узлов сетки интегрирования и значения потенциала в один массив."
   ]
  },
  {
   "cell_type": "code",
   "execution_count": null,
   "id": "623ddbdd",
   "metadata": {},
   "outputs": [],
   "source": [
    "Vcoord = np.concatenate([Vtot,coords],axis=1)\n",
    "Vcoord.shape"
   ]
  },
  {
   "cell_type": "markdown",
   "id": "486a310e",
   "metadata": {},
   "source": [
    "Зададим размеры сетки интегрирования (см. файл Vxc), для удобства разобьем массив с суммарным потенциалом на блоки, аналогичные файлу Vxc."
   ]
  },
  {
   "cell_type": "code",
   "execution_count": 6,
   "id": "e41efa8e",
   "metadata": {},
   "outputs": [],
   "source": [
    "N_R=150\n",
    "N_Theta = 35\n",
    "N_Phi = 72\n",
    "Vcoord_norm = Vcoord.reshape(N_R,N_Theta*N_Phi,4)"
   ]
  },
  {
   "cell_type": "markdown",
   "id": "a106b138",
   "metadata": {},
   "source": [
    "Зададим массив с весами для численного интегрирования методом трапеций."
   ]
  },
  {
   "cell_type": "code",
   "execution_count": 7,
   "id": "4d750391",
   "metadata": {},
   "outputs": [
    {
     "data": {
      "text/plain": [
       "(2520,)"
      ]
     },
     "execution_count": 7,
     "metadata": {},
     "output_type": "execute_result"
    }
   ],
   "source": [
    "weights=[]\n",
    "h1=h2=1\n",
    "for j in range (N_Theta):\n",
    "    if ((j==0) or (j==N_Theta-1)):\n",
    "        h1=0.5\n",
    "    else:\n",
    "        h1=1\n",
    "    for k in range (N_Phi):\n",
    "        if ((k==0) or (k==N_Phi-1)):\n",
    "            h2=0.5\n",
    "        else:\n",
    "            h2=1\n",
    "        weights.append(h1*h2)\n",
    "weights = np.array(weights)\n",
    "weights.shape"
   ]
  },
  {
   "cell_type": "markdown",
   "id": "f09a4d91",
   "metadata": {},
   "source": [
    "Зададим функцию расчета коэффициента разложения потенциала по сферическим гармоникам для выбранных $l$ и $m$:\n",
    "$$ f_{lm}(r_i) = \\int\\limits_0^{2\\pi} d\\varphi \\int\\limits_0^\\pi d\\theta \\sin(\\theta)V(r_i,\\theta,\\varphi)Y_{lm}^*(\\theta,\\varphi) $$"
   ]
  },
  {
   "cell_type": "code",
   "execution_count": 9,
   "id": "032b3ef4",
   "metadata": {},
   "outputs": [],
   "source": [
    "def V_int(arr,weights,l,m):\n",
    "    res=0\n",
    "    angle0=np.pi/36\n",
    "    integral = arr[:,0]*np.sin(arr[:,2])*np.conj(Ynm(m,l,arr[:,3],arr[:,2]))*weights*angle0*angle0\n",
    "    res=np.sum(integral)\n",
    "    return res"
   ]
  },
  {
   "cell_type": "markdown",
   "id": "77157dd1",
   "metadata": {},
   "source": [
    "Зададим максимальный член разложения потенциала по сферическим гармоникам, создадим массив коэффициентов данного разложения вида: $[r,l,m,f_{lm}]$."
   ]
  },
  {
   "cell_type": "code",
   "execution_count": 10,
   "id": "523a1405",
   "metadata": {},
   "outputs": [
    {
     "data": {
      "text/plain": [
       "(150, 169, 4)"
      ]
     },
     "execution_count": 10,
     "metadata": {},
     "output_type": "execute_result"
    }
   ],
   "source": [
    "Lmax=12\n",
    "\n",
    "coeff=[]\n",
    "for R_block in Vcoord_norm:\n",
    "    r_line=[]\n",
    "    for l in range (Lmax+1):\n",
    "        for m in range(-l,l+1):\n",
    "            f = V_int(R_block,weights,l,m)\n",
    "            r_line.append([R_block[0,1],l,m,f])\n",
    "    coeff.append(r_line)\n",
    "coeff=np.array(coeff)\n",
    "coeff.shape"
   ]
  },
  {
   "cell_type": "markdown",
   "id": "8677b1e1",
   "metadata": {},
   "source": [
    "Возьмем 50 пробных точек, в которых расчитаем значение потенциала, разложенного по сферическим гармоникам, выведем координаты точек с ошибкой больше 10%."
   ]
  },
  {
   "cell_type": "code",
   "execution_count": 11,
   "id": "553032aa",
   "metadata": {},
   "outputs": [
    {
     "name": "stdout",
     "output_type": "stream",
     "text": [
      "10.901330282860627   [-1.30945186  0.7         1.48352986  5.75958653]\n",
      "31.993360080188076   [-0.01746279  9.2         1.65806279  6.19591884]\n",
      "29.71263725979092   [-7.76194587e-03  1.49000000e+01  8.72664626e-02  5.06145483e+00]\n",
      "12.048214058366403   [-1.04125953e-02  1.15000000e+01  4.36332313e-01  0.00000000e+00]\n",
      "30.23081145669147   [-0.19679416  3.1         3.05432619  4.27605667]\n",
      "21.93010103383565   [-0.22090489  3.1         2.53072742  6.19591884]\n",
      "31.088237976036908   [-9.41325329e-03  1.13000000e+01  3.05432619e+00  1.83259571e+00]\n",
      "20.81133238930872   [-0.7402201   1.5         2.18166156  3.66519143]\n"
     ]
    },
    {
     "name": "stderr",
     "output_type": "stream",
     "text": [
      "C:\\Users\\Konstantin\\AppData\\Local\\Temp\\ipykernel_3952\\1477664708.py:8: ComplexWarning: Casting complex values to real discards the imaginary part\n",
      "  res+=line[3]*Ynm(int(line[2]),int(line[1]),Vcoord_norm[c1,c2,3],Vcoord_norm[c1,c2,2])\n"
     ]
    }
   ],
   "source": [
    "from random import randint\n",
    "\n",
    "for i in range(50):\n",
    "    res=0\n",
    "    c1=randint(0,149)\n",
    "    c2=randint(0,N_Theta*N_Phi-1)\n",
    "    for line in coeff[c1]:\n",
    "        res+=line[3]*Ynm(int(line[2]),int(line[1]),Vcoord_norm[c1,c2,3],Vcoord_norm[c1,c2,2])\n",
    "    V_prob = Vcoord_norm[c1,c2,0]\n",
    "    err=abs((np.real(res)-V_prob)/V_prob)*100\n",
    "    if err>10:\n",
    "        print(err, ' ', Vcoord_norm[c1,c2])"
   ]
  },
  {
   "cell_type": "markdown",
   "id": "f7334ab7",
   "metadata": {},
   "source": [
    "Увеличим сетку интегрирования, сделав шаг по R 0.01 вместо 0.1."
   ]
  },
  {
   "cell_type": "code",
   "execution_count": 14,
   "id": "848b3ef4",
   "metadata": {},
   "outputs": [
    {
     "name": "stderr",
     "output_type": "stream",
     "text": [
      "C:\\Users\\Konstantin\\AppData\\Local\\Temp\\ipykernel_1836\\3887351211.py:2: ComplexWarning: Casting complex values to real discards the imaginary part\n",
      "  R_val = np.array(coeff[:,0,0], dtype=float)\n"
     ]
    },
    {
     "data": {
      "text/plain": [
       "(1367,)"
      ]
     },
     "execution_count": 14,
     "metadata": {},
     "output_type": "execute_result"
    }
   ],
   "source": [
    "R_approx=np.linspace(0.1,15,1491)\n",
    "R_val = np.array(coeff[:,0,0], dtype=float)\n",
    "R_approx = R_approx[~np.isin(R_approx, R_val)]\n",
    "R_approx.shape"
   ]
  },
  {
   "cell_type": "markdown",
   "id": "4d362867",
   "metadata": {},
   "source": [
    "Зададим функции для интерполяции радиальных членов многочленом Лагранжа: функцию для нахождения индексов в массиве точек, ближайших к заданной, а также функцию для расчета коэффициентов интерполяции\n",
    "(см. https://ru.wikipedia.org/wiki/%D0%98%D0%BD%D1%82%D0%B5%D1%80%D0%BF%D0%BE%D0%BB%D1%8F%D1%86%D0%B8%D0%BE%D0%BD%D0%BD%D1%8B%D0%B9_%D0%BC%D0%BD%D0%BE%D0%B3%D0%BE%D1%87%D0%BB%D0%B5%D0%BD_%D0%9B%D0%B0%D0%B3%D1%80%D0%B0%D0%BD%D0%B6%D0%B0#:~:text=%D0%98%D0%BD%D1%82%D0%B5%D1%80%D0%BF%D0%BE%D0%BB%D1%8F%D1%86%D0%B8%D0%BE%CC%81%D0%BD%D0%BD%D1%8B%D0%B9%20%D0%BC%D0%BD%D0%BE%D0%B3%D0%BE%D1%87%D0%BB%D0%B5%CC%81%D0%BD%20%D0%9B%D0%B0%D0%B3%D1%80%D0%B0%CC%81%D0%BD%D0%B6%D0%B0%20%E2%80%94%20%D0%BC%D0%BD%D0%BE%D0%B3%D0%BE%D1%87%D0%BB%D0%B5%D0%BD%20%D0%BC%D0%B8%D0%BD%D0%B8%D0%BC%D0%B0%D0%BB%D1%8C%D0%BD%D0%BE%D0%B9,%D1%82%D0%BE%20%D0%B5%D1%81%D1%82%D1%8C%20%D1%80%D0%B5%D1%88%D0%B0%D1%8E%D1%89%D0%B8%D0%B9%20%D0%B7%D0%B0%D0%B4%D0%B0%D1%87%D1%83%20%D0%B8%D0%BD%D1%82%D0%B5%D1%80%D0%BF%D0%BE%D0%BB%D1%8F%D1%86%D0%B8%D0%B8)."
   ]
  },
  {
   "cell_type": "code",
   "execution_count": 16,
   "id": "a713645f",
   "metadata": {},
   "outputs": [],
   "source": [
    "def find_index(numbers, target):\n",
    "    diffs = [(i, abs(num - target)) for i, num in enumerate(numbers)]\n",
    "    sorted_diffs = sorted(diffs, key=lambda x: x[1])\n",
    "    indices = [pair[0] for pair in sorted_diffs]\n",
    "    return indices"
   ]
  },
  {
   "cell_type": "code",
   "execution_count": 17,
   "id": "26775479",
   "metadata": {},
   "outputs": [],
   "source": [
    "def Lagrange(R, indices, prop, NumDots):\n",
    "    res=0\n",
    "    for i in range(NumDots):\n",
    "        l_i = 1\n",
    "        for j in range(NumDots):\n",
    "            if i!=j:\n",
    "                mult = (R-(prop[indices[j]][0]))/((prop[indices[i]][0])-(prop[indices[j]][0]))\n",
    "                l_i*=mult\n",
    "        res+= (prop[indices[i]][1])*l_i\n",
    "    return res"
   ]
  },
  {
   "cell_type": "markdown",
   "id": "97045698",
   "metadata": {},
   "source": [
    "Создадим массив коэффициентов искомого многочлена для разных количеств точек интерполяции: от 2 до 10."
   ]
  },
  {
   "cell_type": "code",
   "execution_count": 15,
   "id": "e3571f31",
   "metadata": {},
   "outputs": [],
   "source": [
    "y_i=np.zeros([len(R_approx),9])\n",
    "for l in range(Lmax+1):\n",
    "    for m in range(-l,l+1):\n",
    "        y_i_slice=[]\n",
    "        values= coeff[:,l*l+(l+m),[0,3]]\n",
    "        for R in R_approx:\n",
    "            indices = find_index(R_val, R)\n",
    "            y_line=[]\n",
    "            for NumDots in range(2,11):\n",
    "                lagr = Lagrange(R,indices,values,NumDots)\n",
    "                y_line.append(lagr)\n",
    "            y_i_slice.append(y_line)\n",
    "        y_i=y_i+np.array(y_i_slice)"
   ]
  },
  {
   "cell_type": "code",
   "execution_count": 16,
   "id": "d439a221",
   "metadata": {},
   "outputs": [
    {
     "data": {
      "text/plain": [
       "(1367, 9)"
      ]
     },
     "execution_count": 16,
     "metadata": {},
     "output_type": "execute_result"
    }
   ],
   "source": [
    "y_i.shape"
   ]
  },
  {
   "cell_type": "markdown",
   "id": "c1f1e9a6",
   "metadata": {},
   "source": [
    "С помощью МНК найдем наилучшее количество точек интерполяции."
   ]
  },
  {
   "cell_type": "code",
   "execution_count": 17,
   "id": "40a3a308",
   "metadata": {},
   "outputs": [],
   "source": [
    "res=[]\n",
    "for n in range(8):\n",
    "    line=np.sum((y_i[:,n]-y_i[:,n+1])**2)\n",
    "    res.append(line)"
   ]
  },
  {
   "cell_type": "code",
   "execution_count": 18,
   "id": "26dcdfa5",
   "metadata": {},
   "outputs": [],
   "source": [
    "import matplotlib.pyplot as plt\n",
    "import matplotlib.cm as cm"
   ]
  },
  {
   "cell_type": "code",
   "execution_count": 19,
   "id": "9c96a2eb",
   "metadata": {
    "scrolled": true
   },
   "outputs": [
    {
     "data": {
      "text/plain": [
       "[<matplotlib.lines.Line2D at 0x277fb9ef4f0>]"
      ]
     },
     "execution_count": 19,
     "metadata": {},
     "output_type": "execute_result"
    },
    {
     "data": {
      "text/plain": [
       "Text(0.5, 0, 'NumOfDots')"
      ]
     },
     "execution_count": 19,
     "metadata": {},
     "output_type": "execute_result"
    },
    {
     "data": {
      "text/plain": [
       "Text(0, 0.5, 'LS')"
      ]
     },
     "execution_count": 19,
     "metadata": {},
     "output_type": "execute_result"
    },
    {
     "data": {
      "text/plain": [
       "<matplotlib.legend.Legend at 0x277fb9ef670>"
      ]
     },
     "execution_count": 19,
     "metadata": {},
     "output_type": "execute_result"
    },
    {
     "data": {
      "image/png": "[encoded data removed]",
      "text/plain": [
       "<Figure size 640x480 with 1 Axes>"
      ]
     },
     "metadata": {},
     "output_type": "display_data"
    }
   ],
   "source": [
    "res=np.array(res)\n",
    "res=np.abs(res)\n",
    "x=np.arange(2,10,1)\n",
    "plt.plot(x, res, label='LS for Lagrange')\n",
    "plt.xlabel('NumOfDots')\n",
    "plt.ylabel('LS')\n",
    "plt.legend()\n",
    "plt.show()"
   ]
  },
  {
   "cell_type": "markdown",
   "id": "14b1df7c",
   "metadata": {},
   "source": [
    "Нарисуем, как выглядит интерполяционный многочлен, и где находятся истинные значения потенциала для заданных значений $l$ и $m$."
   ]
  },
  {
   "cell_type": "code",
   "execution_count": 21,
   "id": "22e4bf8c",
   "metadata": {},
   "outputs": [
    {
     "data": {
      "text/plain": [
       "[<matplotlib.lines.Line2D at 0x277fb6c8040>]"
      ]
     },
     "execution_count": 21,
     "metadata": {},
     "output_type": "execute_result"
    },
    {
     "data": {
      "text/plain": [
       "[<matplotlib.lines.Line2D at 0x277fb6c81f0>]"
      ]
     },
     "execution_count": 21,
     "metadata": {},
     "output_type": "execute_result"
    },
    {
     "data": {
      "text/plain": [
       "Text(0.5, 0, 'R')"
      ]
     },
     "execution_count": 21,
     "metadata": {},
     "output_type": "execute_result"
    },
    {
     "data": {
      "text/plain": [
       "Text(0, 0.5, 'V')"
      ]
     },
     "execution_count": 21,
     "metadata": {},
     "output_type": "execute_result"
    },
    {
     "data": {
      "text/plain": [
       "<matplotlib.legend.Legend at 0x277d8fa6da0>"
      ]
     },
     "execution_count": 21,
     "metadata": {},
     "output_type": "execute_result"
    },
    {
     "data": {
      "image/png": "[encoded data removed]",
      "text/plain": [
       "<Figure size 640x480 with 1 Axes>"
      ]
     },
     "metadata": {},
     "output_type": "display_data"
    }
   ],
   "source": [
    "l=2\n",
    "m=1\n",
    "values= coeff[:,l*l+(l+m),[0,3]]\n",
    "r=np.linspace(0.1,1,91)\n",
    "l_val=[]\n",
    "for r0 in r:\n",
    "    indices_r=find_index(R_val,r0)\n",
    "    l_val.append(Lagrange(r0,indices_r,values,6))\n",
    "    \n",
    "l_val=np.array(l_val)\n",
    "#l_val=np.imag(l_val)\n",
    "#l_val=np.abs(l_val)\n",
    "plt.plot(r, l_val, label='f_pred')\n",
    "#plt.plot(values[:10,0], np.abs(values[:10,1]), label='f_real')\n",
    "#plt.plot(values[:10,0], np.imag(values[:10,1]), label='f_real')\n",
    "plt.plot(values[:10,0], values[:10,1], label='f_real')\n",
    "plt.xlabel('R')\n",
    "plt.ylabel('V')\n",
    "plt.legend()\n",
    "plt.show()"
   ]
  },
  {
   "cell_type": "markdown",
   "id": "6da1d3b4",
   "metadata": {},
   "source": [
    "Запишем в текстовый файл данные о разложении потенциала по сферическим гармоникам.\\\n",
    "$\\textbf{NB}$: Так как времени было мало, я не успел сделать вывод значений интерполяционного многочлена, поэтому в дальнейшем в коде Георгия расчет велся на исходной сетке интегрирования. По-хорошему, конечно, нужно самостоятельно написать код для расчета параметра анизотропии в новом подходе с учетом новой, более хорошей сетки."
   ]
  },
  {
   "cell_type": "code",
   "execution_count": 19,
   "id": "14705d8f",
   "metadata": {},
   "outputs": [],
   "source": [
    "InteractiveShell.ast_node_interactivity = \"none\""
   ]
  },
  {
   "cell_type": "code",
   "execution_count": 27,
   "id": "4bcef713",
   "metadata": {},
   "outputs": [
    {
     "name": "stderr",
     "output_type": "stream",
     "text": [
      "C:\\Users\\Konstantin\\AppData\\Local\\Temp\\ipykernel_1836\\400755914.py:6: ComplexWarning: Casting complex values to real discards the imaginary part\n",
      "  file2.write(str(float(line[0])) + \" \")\n",
      "C:\\Users\\Konstantin\\AppData\\Local\\Temp\\ipykernel_1836\\400755914.py:8: ComplexWarning: Casting complex values to real discards the imaginary part\n",
      "  file2.write(str(int(line[index])) + \" \")\n"
     ]
    }
   ],
   "source": [
    "with open(\"V_NH2.txt\", \"w\") as file2:\n",
    "    file2.write(\"r l m Re(R) Im(R)\"+'\\n')\n",
    "    for block_r in coeff:\n",
    "        for line in block_r:\n",
    "            if abs(line[3])>1e-10:\n",
    "                file2.write(str(float(line[0])) + \" \")\n",
    "                for index in range (1,3):\n",
    "                    file2.write(str(int(line[index])) + \" \")\n",
    "                file2.write(str(re(line[3])) + \" \")\n",
    "                file2.write(str(im(line[3])) + '\\n')"
   ]
  },
  {
   "cell_type": "code",
   "execution_count": null,
   "id": "142a2f94",
   "metadata": {},
   "outputs": [],
   "source": []
  }
 ],
 "metadata": {
  "kernelspec": {
   "display_name": "Python 3 (ipykernel)",
   "language": "python",
   "name": "python3"
  },
  "language_info": {
   "codemirror_mode": {
    "name": "ipython",
    "version": 3
   },
   "file_extension": ".py",
   "mimetype": "text/x-python",
   "name": "python",
   "nbconvert_exporter": "python",
   "pygments_lexer": "ipython3",
   "version": "3.10.10"
  }
 },
 "nbformat": 4,
 "nbformat_minor": 5
}
