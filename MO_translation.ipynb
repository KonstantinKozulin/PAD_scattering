{
 "cells": [
  {
   "cell_type": "markdown",
   "id": "bf783ecb",
   "metadata": {},
   "source": [
    "Импортируем необходимые библиотеки."
   ]
  },
  {
   "cell_type": "code",
   "execution_count": 1,
   "id": "713f18f3",
   "metadata": {},
   "outputs": [],
   "source": [
    "import numpy as np\n",
    "from sympy import *\n",
    "import math\n",
    "from math import copysign as sgn, factorial as fact\n",
    "from mpmath import besselj as Jn\n",
    "from sympy.physics.quantum.cg import CG\n",
    "from scipy.special import gamma, binom, sph_harm as Ynm, gammaincc\n",
    "from scipy.special import spherical_jn\n",
    "from scipy.linalg import solve\n",
    "from scipy.integrate import quad\n",
    "import matplotlib.pyplot as plt\n",
    "import subprocess\n",
    "from IPython.core.interactiveshell import InteractiveShell\n",
    "InteractiveShell.ast_node_interactivity = \"all\""
   ]
  },
  {
   "cell_type": "markdown",
   "id": "730f1f42",
   "metadata": {},
   "source": [
    "Введем вспомогательные функции: двойной факториал, функцию суммирования коэффициентов в представлении молекулярной орбитали для сферических гармоник с одинаковыми $l$ и $m$, нахождение координат вектора по координатам его начала и конца."
   ]
  },
  {
   "cell_type": "code",
   "execution_count": 2,
   "id": "65695252",
   "metadata": {},
   "outputs": [],
   "source": [
    "def dfact(n):\n",
    "    if (n % 2 == 1):\n",
    "        res = 1\n",
    "    else:\n",
    "        res = 2\n",
    "    for i in range(res + 2, n + 1, 2):\n",
    "        res *= i\n",
    "    return res\n",
    "\n",
    "def compare(l, m, b):\n",
    "    for j in range (0, len(b)):\n",
    "        if l == b[j][0]:\n",
    "            if m == b[j][1]:\n",
    "                return j\n",
    "    return -1\n",
    "\n",
    "def transform(a):\n",
    "    k = 0\n",
    "    b = []\n",
    "    for line in a:\n",
    "        if line[3]!=0:\n",
    "            if line[0]!=0:\n",
    "                if len(b) == 0:\n",
    "                    b.append(line)\n",
    "                else:\n",
    "                    k = compare(line[0], line[1], b)\n",
    "                    if k == -1:\n",
    "                        b.append(line)\n",
    "                    else:\n",
    "                        b[k][3]+=line[3]\n",
    "    return b\n",
    "\n",
    "def angle(p_expec,p_center):\n",
    "    \"\"\" expected point, center point \"\"\"\n",
    "    d = p_expec - p_center\n",
    "    r = np.linalg.norm(d)\n",
    "    phi = math.atan2(d[1], d[0])\n",
    "    theta = float(acos(d[2]/r))\n",
    "    if phi < 0:\n",
    "        phi += 2*pi.evalf()\n",
    "    return [float(r),float(theta), float(phi)]"
   ]
  },
  {
   "cell_type": "markdown",
   "id": "bfac6870",
   "metadata": {},
   "source": [
    "$$ \\text{Зададим функцию переноса сферической гармоники в новый центр} ~ r_b~\\text{:} \\\\ \n",
    "r_a^lY_{lm}(\\widehat{r_a})e^{-\\alpha r_a^2} = 4\\pi e^{-\\alpha(r_b^2+R^2))}\\sum_{s=0}^{l}{\\sum_{l'=0}^{\\infty}{\\sum_{v=-s}^{s}{\\sum_{m'=-l'}^{l'}{(-1)^{l'}}}}}C(s,l-s,l,v,m-v)\\sqrt{\\frac{4\\pi(2l+1)!}{(2s+1)!(2l-2s+1)!}}\\cdot \\\\\n",
    "\\cdot R^{l-s}i_{l'}(2\\alpha Rr_b)r_b^sY_{sv}(\\widehat{r_b})Y_{l'm'}(\\widehat{r_b})Y_{l-s,m-v}(\\widehat{R_{ab}})Y_{l'm'}^*(\\widehat{R_{ab}}), \\\\\n",
    "\\text{где:}~ r_a=\\sqrt{(x_0-x_a)^2+(y_0-y_a)^2+(z_0-z_a)^2}, \\theta_a = arctg(\\frac{\\sqrt{(x_0-x_a)^2+(y_0-y_a)^2)}}{z_0-z_a}), \\varphi_a = arctg(\\frac{y_0-y_a}{x_0-x_a}), ~ \\mathbf{r_b} \\text{- аналогично;} \\\\\n",
    "R = \\vert R_{ab}\\vert = \\sqrt{(x_a-x_b)^2+(y_a-y_b)^2+(z_a-z_b)^2}, \\theta_R = arctg(\\frac{\\sqrt{(x_a-x_b)^2+(y_a-y_b)^2)}}{z_a-z_b}), \\varphi_R = arctg(\\frac{y_a-y_b}{x_a-x_b}) ; \\\\\n",
    "i_{l'}(2\\alpha Rr_b)=(-i)^{l'}j_{l'}(i\\cdot 2\\alpha Rr_b), \\text{где} j_{l'} \\text{- сферическая функция Бесселя}; \\\\\n",
    "C(s,l-s,l,v,m-v) = \\sqrt{\\frac{(2l-2s)!(2s)!(l+m)!(l-m)!}{(2l)!(s+v)!(s-v)!(l-s+m-v)!(l-s-m+v)!}}. $$\n",
    "Суммирование по l' будет проводиться не до бесконечности, а до определенного числа, определяющегося исходя из требуемой точности.\n",
    "$$ \\text{В случае, когда}~ n_a\\neq 0, ~\\text{имеет место формула:} \\\\\n",
    "r_a^{l+2n_a}Y_{lm}(\\widehat{r_a})e^{-\\alpha r_a^2}=(-1)^{n_a}\\cdot\\left( \\frac{d}{d\\alpha}\\right ) ^{n_a}f(r_a)\\vert_{n_a=0} $$Необходимо отметить, что сразу же после переноса представляет произведение сферических гармоник $Y(\\hat{r_b})$ в виде суммы сферических гармоник с соответствующими коэффициентами. Возвращает массив строк: $[C,L,M,s,l',\\alpha,A]$, где $A$ - множитель в аргументе функции бесселя: $A=2\\alpha R$."
   ]
  },
  {
   "cell_type": "code",
   "execution_count": 3,
   "id": "4cfc5745",
   "metadata": {},
   "outputs": [],
   "source": [
    "def translation (orb,coord_new,Lmax):\n",
    "    res=[]\n",
    "    l=orb[0]\n",
    "    m=orb[1]\n",
    "    X=orb[3]\n",
    "    Y=orb[4]\n",
    "    Z=orb[5]\n",
    "    const=orb[6]\n",
    "    alpha=orb[7]\n",
    "    R,theta_R,phi_R = angle(coord_new,np.array([X,Y,Z]))\n",
    "    for s in range(0,l+1):\n",
    "        for L in range(0,Lmax+1):\n",
    "            for v in range(-s,s+1):\n",
    "                if (l-s+m-v >=0) and (l-s-m+v >=0):\n",
    "                    for M in range(-L,L+1):\n",
    "                        c1=4*pi*(1j)**L*exp(-alpha*R*R)*R**(l-s)\n",
    "                        c2 = sqrt(4*pi*fact(2*l+1)/fact(2*s+1)/fact(2*l-2*s+1))\n",
    "                        c3=sqrt(fact(2*l-2*s)*fact(2*s)*fact(l+m)*fact(l-m)\\\n",
    "                                /fact(2*l)/fact(s+v)/fact(s-v)/fact(l-s+m-v)/fact(l-s-m+v))\n",
    "                        sph_harm=Ynm(m-v,l-s,phi_R,theta_R)*np.conj(Ynm(M,L,phi_R,theta_R))                        \n",
    "                        A=1j*2*alpha*R\n",
    "                        for L_tot in range(abs(s-L),s+L+1):\n",
    "                            M_tot=v+M\n",
    "                            C=sqrt((2*s+1)*(2*L+1)/4/pi/(2*L_tot+1))*CG(s,0,L,0,L_tot,0)*CG(s,v,L,M,L_tot,M_tot)\n",
    "                            const_tot=const*c1*c2*c3*sph_harm*C.doit()\n",
    "                            const_tot=const_tot.evalf()\n",
    "                            if abs(const_tot)>1e-20:\n",
    "                                res.append([const_tot,L_tot,M_tot,s,L,alpha,A])\n",
    "    return res                    "
   ]
  },
  {
   "cell_type": "markdown",
   "id": "6648e430",
   "metadata": {},
   "source": [
    "$$ \\text{Задаем функцию умножения двух сферических гармоник друг на друга:}~ \\\\ Y_{l_1}^{m_1}(\\mathbf{r})\\cdot Y_{l_2}^{m_2}(\\mathbf{r}) = r^{l_1}Y_{l_1}^{m_1}(\\theta,\\phi)\\cdot r^{l_2}Y_{l_2}^{m_2}(\\theta,\\phi)\n",
    "  = \\sum_{L, M}\n",
    "    \\sqrt{\\frac{(2 l_1 + 1) (2 l_2 + 1)}{4 \\pi (2 L + 1)}}\n",
    "    \\langle l_1 \\, 0 \\, l_2 \\, 0 | L \\, 0 \\rangle\n",
    "    \\langle l_1 \\, m_1 \\, l_2 \\, m_2 | L \\, M \\rangle\n",
    "    \\cdot r^{l_1+l_2-L}Y_L^M (\\mathbf{r}).$$\n",
    "$$ \\text{Учитывая условия, при которых коэффициенты Клебша-Гордана не обращаются в 0, получаем ограничения на L и M:}~\\\\ L\\in [\\vert{l_1-l_2}\\vert; l_1+l_2] \\\\ M = m_1+m_2 $$\n",
    "$$\\text{На выходе получаем массив, содержащий значения l и m для всех функций получающегося ряда, а также коэффициенты перед ними.}$$"
   ]
  },
  {
   "cell_type": "code",
   "execution_count": 4,
   "id": "5a5445d8",
   "metadata": {},
   "outputs": [],
   "source": [
    "def multiply(l1, m1, C1, l2, m2, C2, orb, n):\n",
    "    res = zeros(l1+l2-abs(l1-l2)+1, 5)\n",
    "    j = 0\n",
    "    for i in range(abs(l1-l2),l1+l2+1):\n",
    "        CG0 = CG(l1, 0, l2, 0, i, 0)*CG(l1, m1, l2, m2, i, m1+m2)\n",
    "        C0 = CG0.doit()\n",
    "        C00 = sqrt((2*l1+1)*(2*l2+1)/4/pi/(2*i+1))*C0\n",
    "        C = C1*C2*C00\n",
    "        res[j,0]=i\n",
    "        res[j,1]=m1+m2\n",
    "        res[j,2]=l1+l2-i+n\n",
    "        res[j,3]=C\n",
    "        res[j,4]=orb\n",
    "        j+=1\n",
    "    return res"
   ]
  },
  {
   "cell_type": "markdown",
   "id": "c7369b28",
   "metadata": {},
   "source": [
    "Задаем функцию домножения на x, y или z, представленных в виде суммы \"непрерывных\" гармоник: $$\\\\ x = \\sqrt{\\frac{2\\pi}{3}}\\cdot r\\left [ Y_1^{-1}(\\theta,\\phi)-Y_1^1(\\theta,\\phi) \\right ] \\\\ y = i\\sqrt{\\frac{2\\pi}{3}}\\cdot r\\left [ Y_1^{-1}(\\theta,\\phi)+Y_1^1(\\theta,\\phi)\\right ] \\\\ z = 2\\sqrt{\\frac{\\pi}{3}}\\cdot rY_1^0(\\theta,\\phi) $$"
   ]
  },
  {
   "cell_type": "code",
   "execution_count": 5,
   "id": "4b6da2bf",
   "metadata": {},
   "outputs": [],
   "source": [
    "def OneMultiply(function, res, Orb):\n",
    "    res1 = zeros(1, 5)\n",
    "    res2 = zeros(1, 5)\n",
    "    if function == 'X':\n",
    "        for lines in res:\n",
    "            x1 = multiply(lines[0],lines[1],lines[3],1,-1,sqrt(2*pi/3),Orb,lines[2])\n",
    "            x2 = multiply(lines[0],lines[1],lines[3],1,1,-sqrt(2*pi/3),Orb,lines[2])\n",
    "            res1 = np.vstack((res1, x1))\n",
    "            res2 = np.vstack((res2, x2))\n",
    "        res1 = np.vstack((res1, res2))\n",
    "    elif function == 'Y':\n",
    "        for lines in res:\n",
    "            y1 = multiply(lines[0],lines[1],lines[3],1,-1,1j*sqrt(2*pi/3),Orb,lines[2])\n",
    "            y2 = multiply(lines[0],lines[1],lines[3],1,1,1j*sqrt(2*pi/3),Orb,lines[2])\n",
    "            res1 = np.vstack((res1, y1))\n",
    "            res2 = np.vstack((res2, y2))\n",
    "        res1 = np.vstack((res1, res2))\n",
    "    elif function == 'Z':\n",
    "        for lines in res:\n",
    "            z1 = multiply(lines[0],lines[1],lines[3],1,0,2*sqrt(pi/3),Orb,lines[2])\n",
    "            res1 = np.vstack((res1, z1))\n",
    "    return res1"
   ]
  },
  {
   "cell_type": "markdown",
   "id": "0eea83b6",
   "metadata": {},
   "source": [
    "Создадим массив разложения всех необходимых степенных функций по \"непрерывным\" сферическим гармоникам. Выводим его в виде: $ [l,m,2n_\\alpha,C,Orb]$"
   ]
  },
  {
   "cell_type": "code",
   "execution_count": 6,
   "id": "d6b570f2",
   "metadata": {},
   "outputs": [],
   "source": [
    "c0 = 2*sqrt(pi)\n",
    "SphericalExpansion = []\n",
    "MaxDeg=[1,2,3]\n",
    "for Max in MaxDeg:\n",
    "    for a in range (0,Max+1):\n",
    "        for b in range (0,Max-a+1):\n",
    "            c=Max-a-b\n",
    "            line1 = [0,0,0,c0,1]\n",
    "            SphericalExpansion1 = []\n",
    "            SphericalExpansion2 = []\n",
    "            SphericalExpansion1.append(line1)\n",
    "            Orb=2**a*3**b*5**c\n",
    "            for i in range(0,a):\n",
    "                SphericalExpansion2 = OneMultiply('X',SphericalExpansion1,Orb)\n",
    "                SphericalExpansion1 = SphericalExpansion2\n",
    "            for j in range(0,b):\n",
    "                SphericalExpansion2 = OneMultiply('Y',SphericalExpansion1,Orb)\n",
    "                SphericalExpansion1 = SphericalExpansion2\n",
    "            for k in range(0,c):\n",
    "                SphericalExpansion2 = OneMultiply('Z',SphericalExpansion1,Orb)\n",
    "                SphericalExpansion1 = SphericalExpansion2\n",
    "            #SphericalExpansion2 = transform(SphericalExpansion1)\n",
    "            SphericalExpansion.append(SphericalExpansion2)\n",
    "\n",
    "SphericalExpansion1 = SphericalExpansion\n",
    "SphericalExpansion = []\n",
    "lineS = [[0,0,0,c0,1]]\n",
    "SphericalExpansion.append(lineS)\n",
    "for Function in SphericalExpansion1:\n",
    "    Function1=transform(Function)\n",
    "    SphericalExpansion.append(Function1)"
   ]
  },
  {
   "cell_type": "markdown",
   "id": "de19a6b7",
   "metadata": {},
   "source": [
    "Считываем геометрию молекулы."
   ]
  },
  {
   "cell_type": "code",
   "execution_count": 7,
   "id": "3462a7e2",
   "metadata": {},
   "outputs": [],
   "source": [
    "geom = []\n",
    "geom1 = []\n",
    "f = open('geomNH2.txt','r')\n",
    "for line in f:\n",
    "    element = line.replace('\\n','').split(' ')\n",
    "    geom1.append(element)\n",
    "f.close()\n",
    "geom = [list(filter(None, lst)) for lst in geom1]"
   ]
  },
  {
   "cell_type": "markdown",
   "id": "faf6c13b",
   "metadata": {},
   "source": [
    "Считываем базис атомных орбиталей."
   ]
  },
  {
   "cell_type": "code",
   "execution_count": 8,
   "id": "261f0db9",
   "metadata": {},
   "outputs": [],
   "source": [
    "basis1 = []\n",
    "basis2 = []\n",
    "f = open('basisNH2.txt','r')\n",
    "for line in f:\n",
    "    element = line.replace('\\n','').split(' ')\n",
    "    basis1.append(element)\n",
    "f.close()\n",
    "basis2 = [list(filter(None, lst)) for lst in basis1]\n",
    "basis3 = list(filter(None, basis2))"
   ]
  },
  {
   "cell_type": "markdown",
   "id": "25c4e74e",
   "metadata": {},
   "source": [
    "Считываем коэффициенты для молекулярной орбитали."
   ]
  },
  {
   "cell_type": "code",
   "execution_count": 10,
   "id": "4d1ead14",
   "metadata": {},
   "outputs": [],
   "source": [
    "orbital = []\n",
    "orbital1 = []\n",
    "orbital2 = []\n",
    "f = open('orbitalNH2.txt','r')\n",
    "for line in f:\n",
    "    element = line.replace('\\n','').split(' ')\n",
    "    orbital1.append(element)\n",
    "f.close()\n",
    "orbital2 = [list(filter(None, lst)) for lst in orbital1]\n",
    "orbital = list(filter(None, orbital2))"
   ]
  },
  {
   "cell_type": "markdown",
   "id": "f914245c",
   "metadata": {},
   "source": [
    "Молекулярная орбиталь представляется в виде: $\\Psi(r) = \\sum\\limits_i C_i(x-X_i)^{a_i}(y-Y_i)^{b_i}(z-Z_i)^{c_i}\\sum\\limits_j e^{-\\alpha_{ij} (r-R_i)^2}$. Сохраним ее в виде массива: $\\left [ C,a,b,c,X,Y,Z,R,\\alpha, \\text{вид орбитали} \\right ] $."
   ]
  },
  {
   "cell_type": "code",
   "execution_count": 11,
   "id": "78555f4c",
   "metadata": {},
   "outputs": [],
   "source": [
    "Orbital=[]\n",
    "atom_count=0\n",
    "orb_count=0\n",
    "primitive_check=1\n",
    "n_line=0\n",
    "for line in basis3:\n",
    "    if len(line)==1:\n",
    "        atom_count+=1\n",
    "        xyz_N = np.array([float(geom[atom_count][2]),float(geom[atom_count][3]),float(geom[atom_count][4])])\n",
    "        R=np.sqrt(np.sum(xyz_N**2))\n",
    "    else:\n",
    "        if primitive_check != int(line[0]):\n",
    "            orb_count+=n_line\n",
    "            primitive_check+=1\n",
    "        if line[1]=='S':\n",
    "            n_line=1\n",
    "            maxDeg=0\n",
    "        elif line[1]=='P':\n",
    "            n_line=3\n",
    "            maxDeg=1\n",
    "        elif line[1]=='D':\n",
    "            n_line=6\n",
    "            maxDeg=2\n",
    "        elif line[1]=='F':\n",
    "            n_line=10\n",
    "            maxDeg=3\n",
    "        for i in range(0,n_line):\n",
    "            a=b=c=0\n",
    "            for symbol in orbital[orb_count+i][3]:\n",
    "                if symbol=='X':\n",
    "                    a+=1\n",
    "                elif symbol=='Y':\n",
    "                    b+=1\n",
    "                elif symbol=='Z':\n",
    "                    c+=1\n",
    "            alpha=float(line[3])\n",
    "            const=sqrt(((2*alpha/pi)**(3/2))*(2**(2*(a+b+c)))*(alpha**(a+b+c))/dfact(2*a-1)/dfact(2*b-1)/dfact(2*c-1))\n",
    "            C = float(line[4])*float(orbital[orb_count+i][4])*const.evalf()#*Norm[primitive_check-1]\n",
    "            Orb=2**a*3**b*5**c\n",
    "            line_MO=[C,a,b,c,xyz_N[0],xyz_N[1],xyz_N[2],R,alpha,Orb]\n",
    "            Orbital.append(line_MO)\n",
    "            \n",
    "Orbital=np.array(Orbital)"
   ]
  },
  {
   "cell_type": "markdown",
   "id": "6993611e",
   "metadata": {},
   "source": [
    "Рассчитаем значение ВФ МО в пробной точке."
   ]
  },
  {
   "cell_type": "code",
   "execution_count": 12,
   "id": "796212be",
   "metadata": {},
   "outputs": [
    {
     "data": {
      "text/latex": [
       "$\\displaystyle 0.11986355578021$"
      ],
      "text/plain": [
       "0.119863555780210"
      ]
     },
     "execution_count": 12,
     "metadata": {},
     "output_type": "execute_result"
    }
   ],
   "source": [
    "coord_prob=np.array([1.0,1.5,-0.5])\n",
    "R_prob=np.sqrt(np.sum(coord_prob**2))\n",
    "MO_prob = np.sum(Orbital[:,0]*(coord_prob[0]-Orbital[:,4])**Orbital[:,1]*(coord_prob[1]-Orbital[:,5])**Orbital[:,2]*\\\n",
    "                 (coord_prob[2]-Orbital[:,6])**Orbital[:,3]*\\\n",
    "                 np.exp((-Orbital[:,8]*np.sum([(coord_prob-Orbital[:,4:7])**2],axis=-1)).astype(float)))\n",
    "MO_prob"
   ]
  },
  {
   "cell_type": "markdown",
   "id": "81d978a4",
   "metadata": {},
   "source": [
    "Разложим степенные функции в сформированном массиве молекулярной орбитали по \"непрерывным\" сферическим гармоникам.\n",
    "Заведем массив вида $[№_{ат. орб.}][l,m,2n,X,Y,Z,C,\\alpha,\\text{вид орбитали}]$"
   ]
  },
  {
   "cell_type": "code",
   "execution_count": 13,
   "id": "451dd740",
   "metadata": {},
   "outputs": [],
   "source": [
    "SolidHarmOrbital = []\n",
    "for orb in Orbital:\n",
    "    Const = orb[0]\n",
    "    a = orb[1]\n",
    "    b = orb[2]\n",
    "    c = orb[3]\n",
    "    X=orb[4]\n",
    "    Y=orb[5]\n",
    "    Z=orb[6]\n",
    "    R = orb[7]\n",
    "    alpha = orb[8]\n",
    "    orb = orb[9]\n",
    "    for Function in SphericalExpansion:\n",
    "        if int(Function[0][4])==orb:\n",
    "            for line in Function:\n",
    "                l=int(line[0])\n",
    "                m=int(line[1])\n",
    "                n=int(line[2])\n",
    "                C=line[3]*Const\n",
    "                Expand = [l,m,n,X,Y,Z,C.evalf(),alpha,orb]\n",
    "                SolidHarmOrbital.append(Expand)"
   ]
  },
  {
   "cell_type": "markdown",
   "id": "bece3399",
   "metadata": {},
   "source": [
    "Вычислим значение ВФ МО в пробной точке после ее переразложения по \"непрерывным\" сферическим гармоникам. На данный момент она имеет вид: $$\\Psi(r_0) = \\sum_i C\\vert r-R_i\\vert^{l+2n}e^{-\\alpha \\vert r-R_i\\vert^2}Y_{lm}(\\theta_{i0}\\varphi_{i0})$$"
   ]
  },
  {
   "cell_type": "code",
   "execution_count": 14,
   "id": "b7f5a865",
   "metadata": {},
   "outputs": [
    {
     "data": {
      "text/latex": [
       "$\\displaystyle 0.119863639112649$"
      ],
      "text/plain": [
       "0.119863639112649"
      ]
     },
     "execution_count": 14,
     "metadata": {},
     "output_type": "execute_result"
    }
   ],
   "source": [
    "ValueInDot2=0\n",
    "for line in SolidHarmOrbital:\n",
    "    l=line[0]\n",
    "    m=line[1]\n",
    "    N=line[2]\n",
    "    X=line[3]\n",
    "    Y=line[4]\n",
    "    Z=line[5]\n",
    "    R0, theta0, phi0 = angle(coord_prob,np.array([X,Y,Z]))\n",
    "    C=line[6]\n",
    "    alpha=line[7]\n",
    "    psi = C*R0**(l+N)*Ynm(m,l,phi0,theta0)*exp(-alpha*R0**2)\n",
    "    ValueInDot2 += psi\n",
    "re(ValueInDot2.evalf())"
   ]
  },
  {
   "cell_type": "markdown",
   "id": "49a3f226",
   "metadata": {},
   "source": [
    "Выберем точку, в которую будем переносить молекулярную орбиталь. Выберем максимальное l, до которого будем раскладывать экспоненту."
   ]
  },
  {
   "cell_type": "code",
   "execution_count": 15,
   "id": "4ca18108",
   "metadata": {},
   "outputs": [],
   "source": [
    "coord_new=np.array([0.0,0.0,0.0])\n",
    "Lmax=10"
   ]
  },
  {
   "cell_type": "markdown",
   "id": "c1aa5b64",
   "metadata": {},
   "source": [
    "Перенесем орбиталь в новый центр, используя заданную ранее функцию."
   ]
  },
  {
   "cell_type": "code",
   "execution_count": 16,
   "id": "c7c15580",
   "metadata": {},
   "outputs": [
    {
     "data": {
      "text/plain": [
       "281"
      ]
     },
     "execution_count": 16,
     "metadata": {},
     "output_type": "execute_result"
    }
   ],
   "source": [
    "MO_trans=[]\n",
    "for line in SolidHarmOrbital:\n",
    "    MO_trans.append(translation(line,coord_new,Lmax))\n",
    "len(MO_trans)"
   ]
  },
  {
   "cell_type": "markdown",
   "id": "ae8c2948",
   "metadata": {},
   "source": [
    "Создаем одномерный массив строк без разбиения на примитивы."
   ]
  },
  {
   "cell_type": "code",
   "execution_count": 17,
   "id": "ccd8e132",
   "metadata": {},
   "outputs": [],
   "source": [
    "MO_trans_tot=[]\n",
    "for orb in MO_trans:\n",
    "    for line in orb:\n",
    "        MO_trans_tot.append(line)"
   ]
  },
  {
   "cell_type": "markdown",
   "id": "5fb9e9d2",
   "metadata": {},
   "source": [
    "Зададим вспомогательные функции для суммирования коэффициентов в конечной молекулярной орбитали для членов с одинаковыми $L,M,s,l',\\alpha,A$."
   ]
  },
  {
   "cell_type": "code",
   "execution_count": 18,
   "id": "2f35909b",
   "metadata": {},
   "outputs": [],
   "source": [
    "def CompareTrans(line, res):\n",
    "    for k in range (0, len(res)):\n",
    "        if (res[k][1]==line[1]) and (res[k][2]==line[2]) and\\\n",
    "        (res[k][3]==line[3]) and (res[k][4]==line[4]) and (res[k][5]==line[5]) and (res[k][6]==line[6]): \n",
    "            return k\n",
    "    return -1\n",
    "\n",
    "def ChekTrans(massive):\n",
    "    res=[]\n",
    "    for line in massive:\n",
    "        if len(res) == 0:\n",
    "            res.append(line)\n",
    "        else:\n",
    "            k = CompareTrans(line, res)\n",
    "            if k == -1:\n",
    "                res.append(line)\n",
    "            else:\n",
    "                res[k][0]+=line[0]\n",
    "    return res"
   ]
  },
  {
   "cell_type": "code",
   "execution_count": 19,
   "id": "6e0032e3",
   "metadata": {},
   "outputs": [
    {
     "data": {
      "text/plain": [
       "(5231, 7)"
      ]
     },
     "execution_count": 19,
     "metadata": {},
     "output_type": "execute_result"
    }
   ],
   "source": [
    "MO_trans_tot=ChekTrans(MO_trans_tot)\n",
    "MO_trans=np.array(MO_trans_tot)\n",
    "MO_trans.shape"
   ]
  },
  {
   "cell_type": "markdown",
   "id": "a9932655",
   "metadata": {},
   "source": [
    "Вычислим значение перенесенной орбитали в пробной точке."
   ]
  },
  {
   "cell_type": "code",
   "execution_count": 20,
   "id": "a1d356b2",
   "metadata": {},
   "outputs": [
    {
     "data": {
      "text/latex": [
       "$\\displaystyle 0.120058397021943 - 5.619 \\cdot 10^{-18} i$"
      ],
      "text/plain": [
       "0.120058397021943 - 5.619e-18*I"
      ]
     },
     "execution_count": 20,
     "metadata": {},
     "output_type": "execute_result"
    }
   ],
   "source": [
    "coord_prob = angle(coord_prob,coord_new)\n",
    "coord_prob=np.array(coord_prob)\n",
    "M=np.array(MO_trans[:,2],dtype='int')\n",
    "L=np.array(MO_trans[:,1],dtype='int')\n",
    "l=np.array(MO_trans[:,4],dtype='int')\n",
    "A=np.array(MO_trans[:,6],dtype='complex')\n",
    "\n",
    "val_trans=np.sum(MO_trans[:,0]*Ynm(M[:],L[:],coord_prob[2],coord_prob[1])\\\n",
    "                 *spherical_jn(l[:],A[:]*coord_prob[0])*coord_prob[0]**MO_trans[:,3]\\\n",
    "                 *np.exp((-MO_trans[:,5]*coord_prob[0]**2).astype(float)))\n",
    "val_trans.evalf()"
   ]
  },
  {
   "cell_type": "markdown",
   "id": "8d513b91",
   "metadata": {},
   "source": [
    "Запишем информацию о перенесенной орбитали в текстовый файл. Все обозначения в файле совпадают с приведенными выше."
   ]
  },
  {
   "cell_type": "code",
   "execution_count": 21,
   "id": "fab7501a",
   "metadata": {},
   "outputs": [],
   "source": [
    "InteractiveShell.ast_node_interactivity = \"none\""
   ]
  },
  {
   "cell_type": "code",
   "execution_count": 22,
   "id": "727a633f",
   "metadata": {},
   "outputs": [],
   "source": [
    "with open(\"TransMO.txt\", \"w\") as file2:\n",
    "    file2.write(\"L M s l' alpha Re(C) Im(C) Im(A)\"+'\\n')\n",
    "    for line in MO_trans:\n",
    "        for index in range (1,5):\n",
    "            file2.write(str(int(line[index])) + \" \")\n",
    "        file2.write(str(line[5]) + \" \")\n",
    "        file2.write(str(re(line[0])) + \" \")\n",
    "        file2.write(str(im(line[0])) + \" \")\n",
    "        file2.write(str(im(line[6])) + '\\n')"
   ]
  },
  {
   "cell_type": "code",
   "execution_count": null,
   "id": "56aa9643",
   "metadata": {},
   "outputs": [],
   "source": []
  }
 ],
 "metadata": {
  "kernelspec": {
   "display_name": "Python 3 (ipykernel)",
   "language": "python",
   "name": "python3"
  },
  "language_info": {
   "codemirror_mode": {
    "name": "ipython",
    "version": 3
   },
   "file_extension": ".py",
   "mimetype": "text/x-python",
   "name": "python",
   "nbconvert_exporter": "python",
   "pygments_lexer": "ipython3",
   "version": "3.10.10"
  }
 },
 "nbformat": 4,
 "nbformat_minor": 5
}
