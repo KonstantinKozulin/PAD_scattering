{
 "cells": [
  {
   "cell_type": "markdown",
   "id": "a215859e",
   "metadata": {},
   "source": [
    "Импортируем нужные библиотеки."
   ]
  },
  {
   "cell_type": "code",
   "execution_count": 1,
   "id": "db4b8df2",
   "metadata": {},
   "outputs": [],
   "source": [
    "import pickle\n",
    "import numpy as np\n",
    "from sympy import *\n",
    "import math\n",
    "from math import copysign as sgn, factorial as fact\n",
    "from mpmath import besselj as Jn\n",
    "from sympy.physics.quantum.cg import CG\n",
    "from scipy.special import gamma, binom, sph_harm as Ynm, gammaincc\n",
    "from scipy.special import spherical_jn\n",
    "from scipy import integrate\n",
    "import matplotlib.pyplot as plt\n",
    "from IPython.core.interactiveshell import InteractiveShell\n",
    "InteractiveShell.ast_node_interactivity = \"all\""
   ]
  },
  {
   "cell_type": "markdown",
   "id": "2eb2cb38",
   "metadata": {},
   "source": [
    "Считаем из файлов координаты точек сетки интегрирования, значения электронной плотности в них и координаты атомов в молекуле."
   ]
  },
  {
   "cell_type": "code",
   "execution_count": 2,
   "id": "bc72d728",
   "metadata": {},
   "outputs": [],
   "source": [
    "with open(\"grid.bin\", \"rb\") as file:\n",
    "    coords = pickle.load(file)\n",
    "\n",
    "with open(\"NH2_coords.bin\", \"rb\") as file:\n",
    "    geometry = pickle.load(file)\n",
    "    \n",
    "with open(\"density.bin\", \"rb\") as file:\n",
    "    density = pickle.load(file)"
   ]
  },
  {
   "cell_type": "code",
   "execution_count": 3,
   "id": "01d0532c",
   "metadata": {},
   "outputs": [],
   "source": [
    "N_R=150\n",
    "N_Theta=35\n",
    "N_Phi=72\n",
    "\n",
    "X=np.reshape(coords[:,0]*np.sin(coords[:,1])*np.cos(coords[:,2]),(len(coords),1))\n",
    "Y=np.reshape(coords[:,0]*np.sin(coords[:,1])*np.sin(coords[:,2]),(len(coords),1))\n",
    "Z=np.reshape(coords[:,0]*np.cos(coords[:,1]),(len(coords),1))\n",
    "coords_cartesian = np.concatenate([X,Y,Z],axis=1)\n",
    "\n",
    "R_step=coords[N_Theta*N_Phi,0]-coords[0,0]\n",
    "Theta_step=coords[N_Phi,1]-coords[0,1]\n",
    "Phi_step=coords[1,2]-coords[0,2]"
   ]
  },
  {
   "cell_type": "markdown",
   "id": "6809092a",
   "metadata": {},
   "source": [
    "Рассчитаем значения потенциала ядер-электронного взаимодействия в узлах сетки интегрирования."
   ]
  },
  {
   "cell_type": "code",
   "execution_count": 4,
   "id": "a06038f1",
   "metadata": {},
   "outputs": [
    {
     "data": {
      "text/plain": [
       "(378000,)"
      ]
     },
     "execution_count": 4,
     "metadata": {},
     "output_type": "execute_result"
    }
   ],
   "source": [
    "R = np.sqrt(np.sum((coords_cartesian[:,None,:]-geometry[None,:,1:])**2,axis=-1))\n",
    "Ven = np.sum(-1*geometry[:,0]/R[:,:],axis=-1)\n",
    "Ven.shape"
   ]
  },
  {
   "cell_type": "markdown",
   "id": "267ad114",
   "metadata": {},
   "source": [
    "Зададим массив весов для интегрирования методом трапеций."
   ]
  },
  {
   "cell_type": "code",
   "execution_count": 5,
   "id": "26fdb4ba",
   "metadata": {},
   "outputs": [
    {
     "data": {
      "text/plain": [
       "(378000,)"
      ]
     },
     "execution_count": 5,
     "metadata": {},
     "output_type": "execute_result"
    }
   ],
   "source": [
    "weights=[]\n",
    "h1=h2=h3=1\n",
    "for i in range (N_R):\n",
    "    if ((i==0) or (i==N_R-1)):\n",
    "        h1=0.5\n",
    "    else:\n",
    "        h1=1\n",
    "    for j in range (N_Theta):\n",
    "        if ((j==0) or (j==N_Theta-1)):\n",
    "            h2=0.5\n",
    "        else:\n",
    "            h2=1\n",
    "        for k in range (N_Phi):\n",
    "            if ((k==0) or (k==N_Phi-1)):\n",
    "                h3=0.5\n",
    "            else:\n",
    "                h3=1\n",
    "            weights.append(h1*h2*h3)\n",
    "weights = np.array(weights)\n",
    "weights.shape"
   ]
  },
  {
   "cell_type": "markdown",
   "id": "81c08dcc",
   "metadata": {},
   "source": [
    "Рассчитаем значения потенциала электрон-электронного взаимодействия в узлах сетки интегрирования. "
   ]
  },
  {
   "cell_type": "code",
   "execution_count": 6,
   "id": "18d12bc1",
   "metadata": {},
   "outputs": [
    {
     "name": "stderr",
     "output_type": "stream",
     "text": [
      "[Parallel(n_jobs=4)]: Using backend LokyBackend with 4 concurrent workers.\n",
      "[Parallel(n_jobs=4)]: Done  10 tasks      | elapsed:    0.8s\n",
      "[Parallel(n_jobs=4)]: Done 156 tasks      | elapsed:    2.4s\n",
      "[Parallel(n_jobs=4)]: Done 516 tasks      | elapsed:    6.1s\n",
      "[Parallel(n_jobs=4)]: Done 1020 tasks      | elapsed:   11.2s\n",
      "[Parallel(n_jobs=4)]: Done 1668 tasks      | elapsed:   17.5s\n",
      "[Parallel(n_jobs=4)]: Done 2460 tasks      | elapsed:   25.4s\n",
      "[Parallel(n_jobs=4)]: Done 3396 tasks      | elapsed:   35.8s\n",
      "[Parallel(n_jobs=4)]: Done 4476 tasks      | elapsed:   46.4s\n",
      "[Parallel(n_jobs=4)]: Done 5700 tasks      | elapsed:   58.9s\n",
      "[Parallel(n_jobs=4)]: Done 7068 tasks      | elapsed:  1.2min\n",
      "[Parallel(n_jobs=4)]: Done 8580 tasks      | elapsed:  1.5min\n",
      "[Parallel(n_jobs=4)]: Done 10236 tasks      | elapsed:  1.8min\n",
      "[Parallel(n_jobs=4)]: Done 12036 tasks      | elapsed:  2.1min\n",
      "[Parallel(n_jobs=4)]: Done 13980 tasks      | elapsed:  2.4min\n",
      "[Parallel(n_jobs=4)]: Done 16068 tasks      | elapsed:  2.8min\n",
      "[Parallel(n_jobs=4)]: Done 18300 tasks      | elapsed:  3.1min\n",
      "[Parallel(n_jobs=4)]: Done 20676 tasks      | elapsed:  3.5min\n",
      "[Parallel(n_jobs=4)]: Done 23196 tasks      | elapsed:  3.9min\n",
      "[Parallel(n_jobs=4)]: Done 25860 tasks      | elapsed:  4.4min\n",
      "[Parallel(n_jobs=4)]: Done 28668 tasks      | elapsed:  4.9min\n",
      "[Parallel(n_jobs=4)]: Done 31620 tasks      | elapsed:  5.3min\n",
      "[Parallel(n_jobs=4)]: Done 34716 tasks      | elapsed:  5.8min\n",
      "[Parallel(n_jobs=4)]: Done 37956 tasks      | elapsed:  6.4min\n",
      "[Parallel(n_jobs=4)]: Done 41340 tasks      | elapsed:  7.0min\n",
      "[Parallel(n_jobs=4)]: Done 44868 tasks      | elapsed:  7.6min\n",
      "[Parallel(n_jobs=4)]: Done 48540 tasks      | elapsed:  8.2min\n",
      "[Parallel(n_jobs=4)]: Done 52356 tasks      | elapsed:  8.8min\n",
      "[Parallel(n_jobs=4)]: Done 56316 tasks      | elapsed:  9.5min\n",
      "[Parallel(n_jobs=4)]: Done 60420 tasks      | elapsed: 10.2min\n",
      "[Parallel(n_jobs=4)]: Done 64668 tasks      | elapsed: 10.9min\n",
      "[Parallel(n_jobs=4)]: Done 69060 tasks      | elapsed: 11.6min\n",
      "[Parallel(n_jobs=4)]: Done 73596 tasks      | elapsed: 12.4min\n",
      "[Parallel(n_jobs=4)]: Done 78276 tasks      | elapsed: 13.2min\n",
      "[Parallel(n_jobs=4)]: Done 83100 tasks      | elapsed: 14.0min\n",
      "[Parallel(n_jobs=4)]: Done 88068 tasks      | elapsed: 14.8min\n",
      "[Parallel(n_jobs=4)]: Done 93180 tasks      | elapsed: 15.7min\n",
      "[Parallel(n_jobs=4)]: Done 98436 tasks      | elapsed: 16.6min\n",
      "[Parallel(n_jobs=4)]: Done 103836 tasks      | elapsed: 17.5min\n",
      "[Parallel(n_jobs=4)]: Done 109380 tasks      | elapsed: 18.4min\n",
      "[Parallel(n_jobs=4)]: Done 115068 tasks      | elapsed: 19.4min\n",
      "[Parallel(n_jobs=4)]: Done 120900 tasks      | elapsed: 20.4min\n",
      "[Parallel(n_jobs=4)]: Done 126876 tasks      | elapsed: 21.4min\n",
      "[Parallel(n_jobs=4)]: Done 132996 tasks      | elapsed: 22.4min\n",
      "[Parallel(n_jobs=4)]: Done 139260 tasks      | elapsed: 23.4min\n",
      "[Parallel(n_jobs=4)]: Done 145668 tasks      | elapsed: 24.5min\n",
      "[Parallel(n_jobs=4)]: Done 152220 tasks      | elapsed: 25.6min\n",
      "[Parallel(n_jobs=4)]: Done 158916 tasks      | elapsed: 26.7min\n",
      "[Parallel(n_jobs=4)]: Done 165756 tasks      | elapsed: 27.8min\n",
      "[Parallel(n_jobs=4)]: Done 172740 tasks      | elapsed: 29.0min\n",
      "[Parallel(n_jobs=4)]: Done 179868 tasks      | elapsed: 30.2min\n",
      "[Parallel(n_jobs=4)]: Done 187140 tasks      | elapsed: 31.5min\n",
      "[Parallel(n_jobs=4)]: Done 194556 tasks      | elapsed: 32.7min\n",
      "[Parallel(n_jobs=4)]: Done 202116 tasks      | elapsed: 33.9min\n",
      "[Parallel(n_jobs=4)]: Done 209820 tasks      | elapsed: 35.2min\n",
      "[Parallel(n_jobs=4)]: Done 217668 tasks      | elapsed: 36.5min\n",
      "[Parallel(n_jobs=4)]: Done 225660 tasks      | elapsed: 37.9min\n",
      "[Parallel(n_jobs=4)]: Done 233796 tasks      | elapsed: 39.3min\n",
      "[Parallel(n_jobs=4)]: Done 242076 tasks      | elapsed: 40.7min\n",
      "[Parallel(n_jobs=4)]: Done 250500 tasks      | elapsed: 42.1min\n",
      "[Parallel(n_jobs=4)]: Done 259068 tasks      | elapsed: 43.5min\n",
      "[Parallel(n_jobs=4)]: Done 267780 tasks      | elapsed: 44.9min\n",
      "[Parallel(n_jobs=4)]: Done 276636 tasks      | elapsed: 46.4min\n",
      "[Parallel(n_jobs=4)]: Done 285636 tasks      | elapsed: 47.9min\n",
      "[Parallel(n_jobs=4)]: Done 294780 tasks      | elapsed: 49.5min\n",
      "[Parallel(n_jobs=4)]: Done 304068 tasks      | elapsed: 51.0min\n",
      "[Parallel(n_jobs=4)]: Done 313500 tasks      | elapsed: 52.5min\n",
      "[Parallel(n_jobs=4)]: Done 323076 tasks      | elapsed: 54.1min\n",
      "[Parallel(n_jobs=4)]: Done 332796 tasks      | elapsed: 55.7min\n",
      "[Parallel(n_jobs=4)]: Done 342660 tasks      | elapsed: 57.3min\n",
      "[Parallel(n_jobs=4)]: Done 352668 tasks      | elapsed: 58.9min\n",
      "[Parallel(n_jobs=4)]: Done 362820 tasks      | elapsed: 60.6min\n",
      "[Parallel(n_jobs=4)]: Done 373116 tasks      | elapsed: 62.3min\n",
      "[Parallel(n_jobs=4)]: Done 378000 out of 378000 | elapsed: 63.1min finished\n"
     ]
    }
   ],
   "source": [
    "from joblib import Parallel, delayed\n",
    "weight_dens = R_step*Theta_step*Phi_step*density*weights*coords[:,0]**2*np.sin(coords[:,1])\n",
    "NCPUS = 4 #Количество ядер, на которых будет проводится расчет\n",
    "result = Parallel(n_jobs=NCPUS, verbose=5)(delayed( lambda i : np.sum(np.delete(weight_dens, i, axis=0)\\\n",
    "                /np.sqrt(np.sum((coords_cartesian[i,:]-np.delete(coords_cartesian, i, axis=0))**2,axis=1))))(i)\\\n",
    "                for i in range(len(coords)))"
   ]
  },
  {
   "cell_type": "code",
   "execution_count": 7,
   "id": "f0167e2c",
   "metadata": {},
   "outputs": [
    {
     "data": {
      "text/plain": [
       "(378000,)"
      ]
     },
     "execution_count": 7,
     "metadata": {},
     "output_type": "execute_result"
    }
   ],
   "source": [
    "Vee=np.array(result)\n",
    "Vee.shape"
   ]
  },
  {
   "cell_type": "markdown",
   "id": "58d31db7",
   "metadata": {},
   "source": [
    "Считаем из бинарного файла значения обменно-корреляционного потенциала."
   ]
  },
  {
   "cell_type": "code",
   "execution_count": 11,
   "id": "a55cb232",
   "metadata": {},
   "outputs": [
    {
     "data": {
      "text/plain": [
       "array([-6.15726196e-01, -6.15927107e-01, -6.16126570e-01, ...,\n",
       "       -5.32441111e-09, -5.29962220e-09, -5.27162073e-09])"
      ]
     },
     "execution_count": 11,
     "metadata": {},
     "output_type": "execute_result"
    }
   ],
   "source": [
    "with open(\"Vxc.bin\", \"rb\") as file:\n",
    "    Vxc = pickle.load(file)\n",
    "Vxc"
   ]
  },
  {
   "cell_type": "markdown",
   "id": "dabaa8c1",
   "metadata": {},
   "source": [
    "Зададим суммарный потенциал: $V_{\\text{tot}}=V_{\\text{ee}}+V_{\\text{eN}}+V_{\\text{xc}}$."
   ]
  },
  {
   "cell_type": "code",
   "execution_count": 12,
   "id": "f111f9d1",
   "metadata": {},
   "outputs": [
    {
     "data": {
      "text/plain": [
       "(378000,)"
      ]
     },
     "execution_count": 12,
     "metadata": {},
     "output_type": "execute_result"
    }
   ],
   "source": [
    "Vtot = np.sum([Ven,Vee,Vxc],axis=0)\n",
    "Vtot.shape"
   ]
  },
  {
   "cell_type": "markdown",
   "id": "ee4d3491",
   "metadata": {},
   "source": [
    "Сохраним в бинарный файл значения суммарного потенциала на сетке интегрирования."
   ]
  },
  {
   "cell_type": "code",
   "execution_count": 14,
   "id": "da67e353",
   "metadata": {},
   "outputs": [],
   "source": [
    "with open(\"Vtot.bin\", \"wb\") as file:\n",
    "    pickle.dump(Vtot, file)"
   ]
  },
  {
   "cell_type": "code",
   "execution_count": null,
   "id": "24f955b5",
   "metadata": {},
   "outputs": [],
   "source": [
    "  "
   ]
  }
 ],
 "metadata": {
  "kernelspec": {
   "display_name": "Python 3 (ipykernel)",
   "language": "python",
   "name": "python3"
  },
  "language_info": {
   "codemirror_mode": {
    "name": "ipython",
    "version": 3
   },
   "file_extension": ".py",
   "mimetype": "text/x-python",
   "name": "python",
   "nbconvert_exporter": "python",
   "pygments_lexer": "ipython3",
   "version": "3.10.10"
  }
 },
 "nbformat": 4,
 "nbformat_minor": 5
}
